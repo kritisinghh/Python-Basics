{
  "nbformat": 4,
  "nbformat_minor": 0,
  "metadata": {
    "colab": {
      "provenance": [],
      "authorship_tag": "ABX9TyNzHv1DCXaZ7/AWCQO3FIfQ",
      "include_colab_link": true
    },
    "kernelspec": {
      "name": "python3",
      "display_name": "Python 3"
    },
    "language_info": {
      "name": "python"
    }
  },
  "cells": [
    {
      "cell_type": "markdown",
      "metadata": {
        "id": "view-in-github",
        "colab_type": "text"
      },
      "source": [
        "<a href=\"https://colab.research.google.com/github/kritisinghh/Python-Basics/blob/main/Python.ipynb\" target=\"_parent\"><img src=\"https://colab.research.google.com/assets/colab-badge.svg\" alt=\"Open In Colab\"/></a>"
      ]
    },
    {
      "cell_type": "markdown",
      "source": [
        "Hello World"
      ],
      "metadata": {
        "id": "5BCiRNCGUHYT"
      }
    },
    {
      "cell_type": "code",
      "source": [
        "print (\"Hello World\")"
      ],
      "metadata": {
        "colab": {
          "base_uri": "https://localhost:8080/"
        },
        "id": "uqUjcwThUKH9",
        "outputId": "b7df591b-ac6b-4c59-e244-c8d093a38ba5"
      },
      "execution_count": 1,
      "outputs": [
        {
          "output_type": "stream",
          "name": "stdout",
          "text": [
            "Hello World\n"
          ]
        }
      ]
    },
    {
      "cell_type": "markdown",
      "source": [
        "Add numbers and Concatinate strings\n"
      ],
      "metadata": {
        "id": "hNemZBmqUS3E"
      }
    },
    {
      "cell_type": "code",
      "source": [
        "a = 10\t\t\t\t\n",
        "b = 220\n",
        "c = a + b       # Add two numbers\n",
        "print (a, \" + \", b, \" --> \", c)"
      ],
      "metadata": {
        "colab": {
          "base_uri": "https://localhost:8080/"
        },
        "id": "uuqmvcMkUV-I",
        "outputId": "dfdb68bb-7a57-4583-d4c0-6ffb1013d41d"
      },
      "execution_count": 2,
      "outputs": [
        {
          "output_type": "stream",
          "name": "stdout",
          "text": [
            "10  +  220  -->  230\n"
          ]
        }
      ]
    },
    {
      "cell_type": "markdown",
      "source": [
        "Concatinate two strings"
      ],
      "metadata": {
        "id": "NhlMyNn8bqO-"
      }
    },
    {
      "cell_type": "code",
      "source": [
        "a = \"Bhagat\"\n",
        "b = \" Singh\"\n",
        "c = a + b\t\t# Concatinate two strings\n",
        "print (a, \" + \", b, \" --> \", c)"
      ],
      "metadata": {
        "colab": {
          "base_uri": "https://localhost:8080/"
        },
        "id": "KFRe1MM5bsYD",
        "outputId": "9eeb374b-21b4-4b5d-f1f7-e7222d247b0c"
      },
      "execution_count": 3,
      "outputs": [
        {
          "output_type": "stream",
          "name": "stdout",
          "text": [
            "Bhagat  +   Singh  -->  Bhagat Singh\n"
          ]
        }
      ]
    },
    {
      "cell_type": "markdown",
      "source": [
        " Concatinate string with number"
      ],
      "metadata": {
        "id": "0KvK0lrvbvAO"
      }
    },
    {
      "cell_type": "code",
      "source": [
        "a = \"Bhagat\"\n",
        "b = 100\n",
        "c = a + str(b)\t\t# Concatinate string with number\n",
        "print (a, \" + \", b, \" --> \", c)"
      ],
      "metadata": {
        "colab": {
          "base_uri": "https://localhost:8080/"
        },
        "id": "B0Vokhybbxnm",
        "outputId": "0804f075-b121-41ff-ff76-bbeab94e43f5"
      },
      "execution_count": 4,
      "outputs": [
        {
          "output_type": "stream",
          "name": "stdout",
          "text": [
            "Bhagat  +  100  -->  Bhagat100\n"
          ]
        }
      ]
    },
    {
      "cell_type": "markdown",
      "source": [
        "Input from user"
      ],
      "metadata": {
        "id": "2Kop78yzb1GB"
      }
    },
    {
      "cell_type": "markdown",
      "source": [
        "Input two strings from user and concatinate them"
      ],
      "metadata": {
        "id": "cdEOhoRsb6AN"
      }
    },
    {
      "cell_type": "code",
      "source": [
        "a = input(\"Enter First String: \")\n",
        "b = input(\"Enter Second String: \")\n",
        "c = a + b\t\t# concatinate two strings\n",
        "print  (a, \" + \", b, \"      --> \", c)"
      ],
      "metadata": {
        "colab": {
          "base_uri": "https://localhost:8080/"
        },
        "id": "otpFEMcDb9PG",
        "outputId": "5113b908-2453-40b4-dedf-55e45b603859"
      },
      "execution_count": 6,
      "outputs": [
        {
          "output_type": "stream",
          "name": "stdout",
          "text": [
            "Enter First String: hello \n",
            "Enter Second String: world\n",
            "hello   +  world       -->  hello world\n"
          ]
        }
      ]
    },
    {
      "cell_type": "markdown",
      "source": [
        "Input two numbers from user and add them"
      ],
      "metadata": {
        "id": "bkaYTWEgcBEt"
      }
    },
    {
      "cell_type": "code",
      "source": [
        "a = int(input(\"Enter First No: \"))\n",
        "b = int(input(\"Enter Second No: \"))\n",
        "c = a + b\n",
        "print (a, \" + \", b, \" --> \", c)"
      ],
      "metadata": {
        "colab": {
          "base_uri": "https://localhost:8080/"
        },
        "id": "DBRcUH8KcDPx",
        "outputId": "84653ac4-82b0-45b3-e0e7-31607f211559"
      },
      "execution_count": 7,
      "outputs": [
        {
          "output_type": "stream",
          "name": "stdout",
          "text": [
            "Enter First No: 23\n",
            "Enter Second No: 43\n",
            "23  +  43  -->  66\n"
          ]
        }
      ]
    },
    {
      "cell_type": "markdown",
      "source": [
        "Loop"
      ],
      "metadata": {
        "id": "tSPgETOFcFT3"
      }
    },
    {
      "cell_type": "markdown",
      "source": [
        "While Loop"
      ],
      "metadata": {
        "id": "KRV9ecgUcHbN"
      }
    },
    {
      "cell_type": "code",
      "source": [
        "i=1\n",
        "while i <= 10:\n",
        "\tprint (i)\n",
        "\ti = i+1"
      ],
      "metadata": {
        "colab": {
          "base_uri": "https://localhost:8080/"
        },
        "id": "bnCNZTkicJLH",
        "outputId": "7900137d-76b7-4c5b-a8ab-ca0f4007ace1"
      },
      "execution_count": 8,
      "outputs": [
        {
          "output_type": "stream",
          "name": "stdout",
          "text": [
            "1\n",
            "2\n",
            "3\n",
            "4\n",
            "5\n",
            "6\n",
            "7\n",
            "8\n",
            "9\n",
            "10\n"
          ]
        }
      ]
    },
    {
      "cell_type": "markdown",
      "source": [
        "Range Function"
      ],
      "metadata": {
        "id": "2CjNHz6jeUna"
      }
    },
    {
      "cell_type": "code",
      "source": [
        "print (\"range(10)        --> \", list(range(10)))\n",
        "print (\"range(10,20)     --> \", list(range(10,20)))\n",
        "print (\"range(0,20,2)    --> \", list(range(2,20,2)))\n",
        "print (\"range(-10,-20,2) --> \", list(range(-10,-20,2)))\n",
        "print (\"range(-10,-20,-2)--> \", list(range(-10,-20,-2)))"
      ],
      "metadata": {
        "colab": {
          "base_uri": "https://localhost:8080/"
        },
        "id": "ifJ8Ze1UeXTq",
        "outputId": "e44f065c-9e5f-45f9-9335-5af28c0d974b"
      },
      "execution_count": 9,
      "outputs": [
        {
          "output_type": "stream",
          "name": "stdout",
          "text": [
            "range(10)        -->  [0, 1, 2, 3, 4, 5, 6, 7, 8, 9]\n",
            "range(10,20)     -->  [10, 11, 12, 13, 14, 15, 16, 17, 18, 19]\n",
            "range(0,20,2)    -->  [2, 4, 6, 8, 10, 12, 14, 16, 18]\n",
            "range(-10,-20,2) -->  []\n",
            "range(-10,-20,-2)-->  [-10, -12, -14, -16, -18]\n"
          ]
        }
      ]
    },
    {
      "cell_type": "markdown",
      "source": [
        "For loop"
      ],
      "metadata": {
        "id": "r_tj-PwQeaQc"
      }
    },
    {
      "cell_type": "markdown",
      "source": [
        "For loop - Version 1"
      ],
      "metadata": {
        "id": "M_mruRc6ec_I"
      }
    },
    {
      "cell_type": "code",
      "source": [
        "for i in range(0,10):\n",
        "\tprint (i)"
      ],
      "metadata": {
        "colab": {
          "base_uri": "https://localhost:8080/"
        },
        "id": "UFWrPE9wefFC",
        "outputId": "7e6bfec7-c18c-4d6e-9103-4031461b88d9"
      },
      "execution_count": 10,
      "outputs": [
        {
          "output_type": "stream",
          "name": "stdout",
          "text": [
            "0\n",
            "1\n",
            "2\n",
            "3\n",
            "4\n",
            "5\n",
            "6\n",
            "7\n",
            "8\n",
            "9\n"
          ]
        }
      ]
    },
    {
      "cell_type": "markdown",
      "source": [
        "For loop - Version 2"
      ],
      "metadata": {
        "id": "bBbr2zChehq0"
      }
    },
    {
      "cell_type": "code",
      "source": [
        "for i in range(0,20,2):\n",
        "\tprint (i)"
      ],
      "metadata": {
        "colab": {
          "base_uri": "https://localhost:8080/"
        },
        "id": "7nJZHjy7ekVu",
        "outputId": "8a20f0bf-37ad-4210-8257-57199a645754"
      },
      "execution_count": 11,
      "outputs": [
        {
          "output_type": "stream",
          "name": "stdout",
          "text": [
            "0\n",
            "2\n",
            "4\n",
            "6\n",
            "8\n",
            "10\n",
            "12\n",
            "14\n",
            "16\n",
            "18\n"
          ]
        }
      ]
    },
    {
      "cell_type": "markdown",
      "source": [
        "For loop - Version 3"
      ],
      "metadata": {
        "id": "Qg2Fi3y0emh3"
      }
    },
    {
      "cell_type": "code",
      "source": [
        "for i in range(0,-10,-1):\n",
        "\tprint (i)"
      ],
      "metadata": {
        "colab": {
          "base_uri": "https://localhost:8080/"
        },
        "id": "tq8CAUTDeolw",
        "outputId": "81e32fdd-680d-42d9-cab8-426889ce69d2"
      },
      "execution_count": 12,
      "outputs": [
        {
          "output_type": "stream",
          "name": "stdout",
          "text": [
            "0\n",
            "-1\n",
            "-2\n",
            "-3\n",
            "-4\n",
            "-5\n",
            "-6\n",
            "-7\n",
            "-8\n",
            "-9\n"
          ]
        }
      ]
    },
    {
      "cell_type": "markdown",
      "source": [
        "Print table of 5"
      ],
      "metadata": {
        "id": "g2Xifhaqes8l"
      }
    },
    {
      "cell_type": "code",
      "source": [
        "for i in range(1,11):\n",
        "\tprint (5,\" * \", i , \" = \", i * 5)"
      ],
      "metadata": {
        "colab": {
          "base_uri": "https://localhost:8080/"
        },
        "id": "iAyr3UQ2evQq",
        "outputId": "0c71172a-6f5e-466b-d9e2-7166b3aaeee0"
      },
      "execution_count": 13,
      "outputs": [
        {
          "output_type": "stream",
          "name": "stdout",
          "text": [
            "5  *  1  =  5\n",
            "5  *  2  =  10\n",
            "5  *  3  =  15\n",
            "5  *  4  =  20\n",
            "5  *  5  =  25\n",
            "5  *  6  =  30\n",
            "5  *  7  =  35\n",
            "5  *  8  =  40\n",
            "5  *  9  =  45\n",
            "5  *  10  =  50\n"
          ]
        }
      ]
    },
    {
      "cell_type": "markdown",
      "source": [
        "Sum all numbers from 1 to 10"
      ],
      "metadata": {
        "id": "KJfnJxkzex2u"
      }
    },
    {
      "cell_type": "markdown",
      "source": [
        "Version 1"
      ],
      "metadata": {
        "id": "u9H-gpCJe0xa"
      }
    },
    {
      "cell_type": "code",
      "source": [
        "s=0\n",
        "for i in range(1,11):\n",
        "\ts=s+i\n",
        "print (\"Sum is --> \",s)"
      ],
      "metadata": {
        "colab": {
          "base_uri": "https://localhost:8080/"
        },
        "id": "93mk058Te2pc",
        "outputId": "73194359-9fee-40b5-cfe6-46dd7ffda04c"
      },
      "execution_count": 14,
      "outputs": [
        {
          "output_type": "stream",
          "name": "stdout",
          "text": [
            "Sum is -->  55\n"
          ]
        }
      ]
    },
    {
      "cell_type": "markdown",
      "source": [
        "Version 2"
      ],
      "metadata": {
        "id": "ov4_wpBBe5KR"
      }
    },
    {
      "cell_type": "code",
      "source": [
        "print (\"Sum is --> \", sum(range(1,11)))"
      ],
      "metadata": {
        "colab": {
          "base_uri": "https://localhost:8080/"
        },
        "id": "pbI5IhZJe75N",
        "outputId": "82975277-a05a-4699-eb3f-1c093a46739b"
      },
      "execution_count": 15,
      "outputs": [
        {
          "output_type": "stream",
          "name": "stdout",
          "text": [
            "Sum is -->  55\n"
          ]
        }
      ]
    },
    {
      "cell_type": "markdown",
      "source": [
        "If-Else - Conditional Checking"
      ],
      "metadata": {
        "id": "klLw0sfEe-VY"
      }
    },
    {
      "cell_type": "markdown",
      "source": [
        "Input two numbers from user and compare them"
      ],
      "metadata": {
        "id": "A4eDER9wfA5s"
      }
    },
    {
      "cell_type": "code",
      "source": [
        "a = int(input(\"Enter First No: \"))\n",
        "b = int(input(\"Enter Second No: \"))\n",
        "if  a > b: \n",
        "\tprint (a,\" > \",b)\n",
        "else:\n",
        "\tprint (a,\" < \",b)"
      ],
      "metadata": {
        "colab": {
          "base_uri": "https://localhost:8080/"
        },
        "id": "AIbxJgDRfEWd",
        "outputId": "0376ec7f-5159-4909-ee38-aaae4b531791"
      },
      "execution_count": 16,
      "outputs": [
        {
          "output_type": "stream",
          "name": "stdout",
          "text": [
            "Enter First No: 45\n",
            "Enter Second No: 43\n",
            "45  >  43\n"
          ]
        }
      ]
    },
    {
      "cell_type": "markdown",
      "source": [
        "Check weather a number is odd or even"
      ],
      "metadata": {
        "id": "PM2KbH21fGR6"
      }
    },
    {
      "cell_type": "code",
      "source": [
        "n = int(input(\"Enter a No: \"))\n",
        "if  n % 2 == 0: \n",
        "\tprint (n,\" is even\")\n",
        "else:\n",
        "\tprint (n,\" is odd\")\n"
      ],
      "metadata": {
        "colab": {
          "base_uri": "https://localhost:8080/"
        },
        "id": "rjpPEjKkfIsA",
        "outputId": "22e82cad-19d1-4fde-d5cd-2f0b3a95da3e"
      },
      "execution_count": 17,
      "outputs": [
        {
          "output_type": "stream",
          "name": "stdout",
          "text": [
            "Enter a No: 67\n",
            "67  is odd\n"
          ]
        }
      ]
    },
    {
      "cell_type": "markdown",
      "source": [
        "Check weather a number is prime of not\n"
      ],
      "metadata": {
        "id": "bLvaTEN9fNDm"
      }
    },
    {
      "cell_type": "code",
      "source": [
        "n = int(input(\"Enter a No: \"))\n",
        "f=0\n",
        "for i in range(2, n//2 + 1):\n",
        "\tif  n % i == 0: \n",
        "\t\tf=1\n",
        "\t\tbreak\n",
        "\n",
        "\n",
        "if f==0:\n",
        "\tprint (\"Prime\")\n",
        "else:\n",
        "\tprint (\"Not Prime\")"
      ],
      "metadata": {
        "colab": {
          "base_uri": "https://localhost:8080/"
        },
        "id": "ohm0E6mEfQeA",
        "outputId": "7d0e9577-e48a-478c-bac1-d8cbfc7cbb70"
      },
      "execution_count": 18,
      "outputs": [
        {
          "output_type": "stream",
          "name": "stdout",
          "text": [
            "Enter a No: 71\n",
            "Prime\n"
          ]
        }
      ]
    },
    {
      "cell_type": "markdown",
      "source": [
        "Conditional Checking - Compare strings"
      ],
      "metadata": {
        "id": "DgjpLZkefSti"
      }
    },
    {
      "cell_type": "code",
      "source": [
        "a = input(\"Enter First String : \")\n",
        "b = input(\"Enter Second String: \")\n",
        "\n",
        "if a == b: \n",
        "\tprint (\"a == b\")\n",
        "elif a >= b: \n",
        "\tprint (\"a > b\")\n",
        "else:\n",
        "\tprint (\"a < b\")"
      ],
      "metadata": {
        "colab": {
          "base_uri": "https://localhost:8080/"
        },
        "id": "skW9jsHGfX5L",
        "outputId": "ef4de3d9-608d-4824-949b-2997483d99d8"
      },
      "execution_count": 19,
      "outputs": [
        {
          "output_type": "stream",
          "name": "stdout",
          "text": [
            "Enter First String : apple\n",
            "Enter Second String: apply\n",
            "a < b\n"
          ]
        }
      ]
    },
    {
      "cell_type": "markdown",
      "source": [
        "Functions\n",
        "\n",
        "1.   List item\n",
        "2.   List item\n",
        "\n"
      ],
      "metadata": {
        "id": "gpR0FhNmfaAt"
      }
    },
    {
      "cell_type": "markdown",
      "source": [
        "Add two numbers"
      ],
      "metadata": {
        "id": "W3UcislAfbrd"
      }
    },
    {
      "cell_type": "code",
      "source": [
        "def Add(a,b):\n",
        "\tc=a+b\n",
        "\treturn c\n",
        "\n",
        "print (\"Add(10,20) -->\", Add(10,20))\n",
        "print (\"Add(20,50) -->\", Add(20,50)) \n",
        "print (\"Add(80,200) -->\", Add(80,200)) "
      ],
      "metadata": {
        "colab": {
          "base_uri": "https://localhost:8080/"
        },
        "id": "uH0z-ufXfeEB",
        "outputId": "c9b1ef44-68ac-4013-cc7f-49c6fb8e1af7"
      },
      "execution_count": 20,
      "outputs": [
        {
          "output_type": "stream",
          "name": "stdout",
          "text": [
            "Add(10,20) --> 30\n",
            "Add(20,50) --> 70\n",
            "Add(80,200) --> 280\n"
          ]
        }
      ]
    },
    {
      "cell_type": "markdown",
      "source": [
        "Prime number"
      ],
      "metadata": {
        "id": "63_nM8AsffxU"
      }
    },
    {
      "cell_type": "code",
      "source": [
        "def IsPrime(n):\n",
        "\tfor i in range(2, n//2 + 1):\n",
        "\t\tif n%i==0:\n",
        "\t\t\treturn 0\n",
        "\treturn 1\n",
        "\n",
        "print (\"IsPrime(20)  --> \", IsPrime(20))\n",
        "print (\"IsPrime(23)  --> \", IsPrime(23))\n",
        "print (\"IsPrime(200) --> \", IsPrime(200))\n",
        "print (\"IsPrime(37)  --> \", IsPrime(37))"
      ],
      "metadata": {
        "colab": {
          "base_uri": "https://localhost:8080/"
        },
        "id": "QZMLOoOgfiRa",
        "outputId": "6f5cf334-f52a-4698-8f5c-b32308bdb645"
      },
      "execution_count": 21,
      "outputs": [
        {
          "output_type": "stream",
          "name": "stdout",
          "text": [
            "IsPrime(20)  -->  0\n",
            "IsPrime(23)  -->  1\n",
            "IsPrime(200) -->  0\n",
            "IsPrime(37)  -->  1\n"
          ]
        }
      ]
    },
    {
      "cell_type": "markdown",
      "source": [
        "Add 1 to n"
      ],
      "metadata": {
        "id": "7lnm4djlfkKC"
      }
    },
    {
      "cell_type": "code",
      "source": [
        "def AddN(n):\n",
        "\ts= sum(range(n+1))\n",
        "\treturn s\n",
        "\n",
        "print (\"AddN(10)  --> \", AddN(10))\n",
        "print (\"AddN(20)  --> \", AddN(20))\n",
        "print (\"AddN(50)  --> \", AddN(50))\n",
        "print (\"AddN(200) --> \", AddN(200))"
      ],
      "metadata": {
        "colab": {
          "base_uri": "https://localhost:8080/"
        },
        "id": "G2K0U5skfmZx",
        "outputId": "a05484b1-2b69-43f7-f9d7-fdeb260a69be"
      },
      "execution_count": 22,
      "outputs": [
        {
          "output_type": "stream",
          "name": "stdout",
          "text": [
            "AddN(10)  -->  55\n",
            "AddN(20)  -->  210\n",
            "AddN(50)  -->  1275\n",
            "AddN(200) -->  20100\n"
          ]
        }
      ]
    },
    {
      "cell_type": "markdown",
      "source": [
        "Math library"
      ],
      "metadata": {
        "id": "gK6MQgOTfpgm"
      }
    },
    {
      "cell_type": "code",
      "source": [
        "import math as m\n",
        "print (\"exp(-200)    --> \", m.exp(-200))  # Exponential function\n",
        "print (\"log(100,2)   --> \", m.log(100,2)) # Log\n",
        "print (\"log(100,10)  --> \", m.log(100,10))# Log\n",
        "print (\"log10(100)   --> \", m.log10(100)) # Log 10\n",
        "print (\"m.cos(30)    --> \", m.cos(30))    # cos\n",
        "print (\"m.sin(30)    --> \", m.sin(30))    # sin\n",
        "print (\"m.tan(30)    --> \", m.tan(30))    # tan\n",
        "print (\"m.sqrt(324)  --> \", m.sqrt(324))\n",
        "print (\"m.ceil(89.9) --> \", m.ceil(89.9))\n",
        "print (\"m.floor(89.9)--> \", m.floor(89.9))"
      ],
      "metadata": {
        "colab": {
          "base_uri": "https://localhost:8080/"
        },
        "id": "gc8QUsgWfqC5",
        "outputId": "f4e1287a-7753-4b6d-cc7e-a5c27a7d726e"
      },
      "execution_count": 23,
      "outputs": [
        {
          "output_type": "stream",
          "name": "stdout",
          "text": [
            "exp(-200)    -->  1.3838965267367376e-87\n",
            "log(100,2)   -->  6.643856189774725\n",
            "log(100,10)  -->  2.0\n",
            "log10(100)   -->  2.0\n",
            "m.cos(30)    -->  0.15425144988758405\n",
            "m.sin(30)    -->  -0.9880316240928618\n",
            "m.tan(30)    -->  -6.405331196646276\n",
            "m.sqrt(324)  -->  18.0\n",
            "m.ceil(89.9) -->  90\n",
            "m.floor(89.9)-->  89\n"
          ]
        }
      ]
    },
    {
      "cell_type": "markdown",
      "source": [
        "Strings"
      ],
      "metadata": {
        "id": "2h46_PqNfte3"
      }
    },
    {
      "cell_type": "markdown",
      "source": [
        "Indexing in string"
      ],
      "metadata": {
        "id": "F0CLIID0fvIQ"
      }
    },
    {
      "cell_type": "code",
      "source": [
        "var = 'Hello World!'\n",
        "print (\"var      --> \", var)\n",
        "print (\"var[0]   --> \", var[0])\n",
        "print (\"var[1:5] --> \", var[1:5])\n",
        "print (\"var[:-5] --> \", var[:-5])"
      ],
      "metadata": {
        "colab": {
          "base_uri": "https://localhost:8080/"
        },
        "id": "ZKjB4USRfyPq",
        "outputId": "e2cb8def-809b-45ce-b627-61f17340bad1"
      },
      "execution_count": 24,
      "outputs": [
        {
          "output_type": "stream",
          "name": "stdout",
          "text": [
            "var      -->  Hello World!\n",
            "var[0]   -->  H\n",
            "var[1:5] -->  ello\n",
            "var[:-5] -->  Hello W\n"
          ]
        }
      ]
    },
    {
      "cell_type": "markdown",
      "source": [
        "String length, upper, lower"
      ],
      "metadata": {
        "id": "M8vomHZZf62w"
      }
    },
    {
      "cell_type": "code",
      "source": [
        "var = 'Hello World!'\n",
        "print (\"String --> \", var)\n",
        "print (\"Length --> : \", len(var))\n",
        "print (\"Upper  --> : \", var.upper())\n",
        "print (\"Lower  --> : \", var.lower())"
      ],
      "metadata": {
        "colab": {
          "base_uri": "https://localhost:8080/"
        },
        "id": "Y9xMkkUSf83b",
        "outputId": "b19eed86-02ac-442b-ddd6-37bc1f02f541"
      },
      "execution_count": 25,
      "outputs": [
        {
          "output_type": "stream",
          "name": "stdout",
          "text": [
            "String -->  Hello World!\n",
            "Length --> :  12\n",
            "Upper  --> :  HELLO WORLD!\n",
            "Lower  --> :  hello world!\n"
          ]
        }
      ]
    },
    {
      "cell_type": "markdown",
      "source": [
        "String formatting"
      ],
      "metadata": {
        "id": "KfZTkphzgAU4"
      }
    },
    {
      "cell_type": "code",
      "source": [
        "name=input(\"Enter your name: \")\n",
        "age=int(input(\"Enter your age : \"))\n",
        "price=float(input(\"Enter the book price: \"))\n",
        "s=\"\\nYour name is %s, age is %d and book price is %f\" %(name.upper(),age,price)\n",
        "print (s)"
      ],
      "metadata": {
        "colab": {
          "base_uri": "https://localhost:8080/"
        },
        "id": "lfEywNFcgCm1",
        "outputId": "d7d0f613-6fe5-4472-c418-c3bdb688f1e5"
      },
      "execution_count": 26,
      "outputs": [
        {
          "output_type": "stream",
          "name": "stdout",
          "text": [
            "Enter your name: aman\n",
            "Enter your age : 23\n",
            "Enter the book price: 435.50\n",
            "\n",
            "Your name is AMAN, age is 23 and book price is 435.500000\n"
          ]
        }
      ]
    },
    {
      "cell_type": "markdown",
      "source": [
        "String in Triple Quotes"
      ],
      "metadata": {
        "id": "4fyy1dlUgH9m"
      }
    },
    {
      "cell_type": "code",
      "source": [
        "para_str = \"\"\"This is a long string that is made up of\n",
        "several lines and non-printable characters such as\n",
        "TAB ( \\t ) and they will show up that way when displayed.\n",
        "NEWLINEs within the string, whether explicitly given like\n",
        "this within the brackets [ \\n ], or just a NEWLINE within\n",
        "the variable assignment will also show up.\n",
        "\"\"\"\n",
        "print (para_str)"
      ],
      "metadata": {
        "colab": {
          "base_uri": "https://localhost:8080/"
        },
        "id": "Mwz1_cm5gKf7",
        "outputId": "274233f3-6da4-41a6-9339-94f1b56810d9"
      },
      "execution_count": 27,
      "outputs": [
        {
          "output_type": "stream",
          "name": "stdout",
          "text": [
            "This is a long string that is made up of\n",
            "several lines and non-printable characters such as\n",
            "TAB ( \t ) and they will show up that way when displayed.\n",
            "NEWLINEs within the string, whether explicitly given like\n",
            "this within the brackets [ \n",
            " ], or just a NEWLINE within\n",
            "the variable assignment will also show up.\n",
            "\n"
          ]
        }
      ]
    },
    {
      "cell_type": "markdown",
      "source": [
        " String strip"
      ],
      "metadata": {
        "id": "pHEe4xtZgMiS"
      }
    },
    {
      "cell_type": "code",
      "source": [
        "var =\" Indian   Army    \"\n",
        "\n",
        "print(\"String    --> \", var)\n",
        "print(\"Length    --> \", len(var))\n",
        "print(\"var strip --> \", var.strip())\n",
        "print(\"Length of var after strip --> \", len(var.strip()))"
      ],
      "metadata": {
        "colab": {
          "base_uri": "https://localhost:8080/"
        },
        "id": "U-NXNQ0KgNGt",
        "outputId": "d8ed5dd8-6f05-4f7f-bdc2-6b625aacd384"
      },
      "execution_count": 28,
      "outputs": [
        {
          "output_type": "stream",
          "name": "stdout",
          "text": [
            "String    -->   Indian   Army    \n",
            "Length    -->  18\n",
            "var strip -->  Indian   Army\n",
            "Length of var after strip -->  13\n"
          ]
        }
      ]
    },
    {
      "cell_type": "markdown",
      "source": [
        "String split"
      ],
      "metadata": {
        "id": "YNijX2sugRSB"
      }
    },
    {
      "cell_type": "code",
      "source": [
        "var =\" Indian,   Army    \"\n",
        "\n",
        "print(\"String    --> \", var)\n",
        "print(\"Length    --> \", len(var))\n",
        "print(\"var split --> \", var.split())\n",
        "print(\"var split --> \", var.split(' '))\n",
        "print(\"var split --> \", var.split(','))\n",
        "\n",
        "# Strip + Split\n",
        "print(\"var split --> \", var.strip().split(','))"
      ],
      "metadata": {
        "colab": {
          "base_uri": "https://localhost:8080/"
        },
        "id": "NqHWqvYSgTOf",
        "outputId": "5cc47bd7-d4c9-4a9f-bb07-b21ab49fe82e"
      },
      "execution_count": 29,
      "outputs": [
        {
          "output_type": "stream",
          "name": "stdout",
          "text": [
            "String    -->   Indian,   Army    \n",
            "Length    -->  19\n",
            "var split -->  ['Indian,', 'Army']\n",
            "var split -->  ['', 'Indian,', '', '', 'Army', '', '', '', '']\n",
            "var split -->  [' Indian', '   Army    ']\n",
            "var split -->  ['Indian', '   Army']\n"
          ]
        }
      ]
    },
    {
      "cell_type": "markdown",
      "source": [
        "Count in string"
      ],
      "metadata": {
        "id": "K0nKwqjEgVdZ"
      }
    },
    {
      "cell_type": "code",
      "source": [
        "var=\" Indian Army    \"\n",
        "print (\"String       --> \", var)\n",
        "print (\"Count of ' ' --> \", var.count(' '))\n",
        "print (\"Count of 'a' --> \", var.count('a'))\n",
        "print (\"Count of 'n' --> \", var.count('an'))"
      ],
      "metadata": {
        "colab": {
          "base_uri": "https://localhost:8080/"
        },
        "id": "zZjlTi2MgXOH",
        "outputId": "c1aadf1c-55c9-40eb-b627-89d3e14b13b5"
      },
      "execution_count": 30,
      "outputs": [
        {
          "output_type": "stream",
          "name": "stdout",
          "text": [
            "String       -->   Indian Army    \n",
            "Count of ' ' -->  6\n",
            "Count of 'a' -->  1\n",
            "Count of 'n' -->  1\n"
          ]
        }
      ]
    },
    {
      "cell_type": "markdown",
      "source": [
        "Reverse a String"
      ],
      "metadata": {
        "id": "q9O56kKDgZT7"
      }
    },
    {
      "cell_type": "code",
      "source": [
        "var=\"Indian Army\"\n",
        "print (\"String    --> \", var)\n",
        "print (\"var[::1]  --> \", var[::1])\n",
        "print (\"var[::2]  --> \", var[::2])\n",
        "print (\"var[::-1] --> \", var[::-1])\n",
        "print (\"var[::-2] --> \", var[::-2])\n",
        "\n",
        "var=var[::-1]\n",
        "print (\"var after reverse --> \", var)"
      ],
      "metadata": {
        "colab": {
          "base_uri": "https://localhost:8080/"
        },
        "id": "0rl-LmH6gbbf",
        "outputId": "5a1f254b-4e34-4674-d308-386b80097669"
      },
      "execution_count": 31,
      "outputs": [
        {
          "output_type": "stream",
          "name": "stdout",
          "text": [
            "String    -->  Indian Army\n",
            "var[::1]  -->  Indian Army\n",
            "var[::2]  -->  Ida ry\n",
            "var[::-1] -->  ymrA naidnI\n",
            "var[::-2] -->  yr adI\n",
            "var after reverse -->  ymrA naidnI\n"
          ]
        }
      ]
    },
    {
      "cell_type": "markdown",
      "source": [
        "Palindrome"
      ],
      "metadata": {
        "id": "Q1wsPVmVgdj8"
      }
    },
    {
      "cell_type": "code",
      "source": [
        "s1=\"Indian Army\"\n",
        "s2=\"malayalam\"\n",
        "s3=\"madam\"\n",
        "s4=\"teacher\"\n",
        "print (\"s1 --> \", s1==s1[::-1])\n",
        "print (\"s2 --> \", s2==s2[::-1])\n",
        "print (\"s3 --> \", s3==s3[::-1])\n",
        "print (\"s4 --> \", s4==s4[::-1])"
      ],
      "metadata": {
        "colab": {
          "base_uri": "https://localhost:8080/"
        },
        "id": "-ZbfYq0TgfcR",
        "outputId": "5c472b11-bf8d-4598-b103-b093a0e84bd1"
      },
      "execution_count": 32,
      "outputs": [
        {
          "output_type": "stream",
          "name": "stdout",
          "text": [
            "s1 -->  False\n",
            "s2 -->  True\n",
            "s3 -->  True\n",
            "s4 -->  False\n"
          ]
        }
      ]
    },
    {
      "cell_type": "markdown",
      "source": [
        "Random Numbers/String"
      ],
      "metadata": {
        "id": "RCFHdliQDeqH"
      }
    },
    {
      "cell_type": "markdown",
      "source": [
        "Generate random number between 0 and 1"
      ],
      "metadata": {
        "id": "it3e4G5-Dj0Y"
      }
    },
    {
      "cell_type": "code",
      "source": [
        "import random as r\n",
        "print (r.random())\n",
        "print (r.random())\n",
        "print (round(r.random(),4))"
      ],
      "metadata": {
        "colab": {
          "base_uri": "https://localhost:8080/"
        },
        "id": "zLTlgRMXDmF6",
        "outputId": "ec234bba-af73-47c4-edb6-02d38e0f045a"
      },
      "execution_count": 33,
      "outputs": [
        {
          "output_type": "stream",
          "name": "stdout",
          "text": [
            "0.3543626539313842\n",
            "0.6244572654280566\n",
            "0.7411\n"
          ]
        }
      ]
    },
    {
      "cell_type": "markdown",
      "source": [
        "Generate random integer number"
      ],
      "metadata": {
        "id": "igOmdygEDoHH"
      }
    },
    {
      "cell_type": "code",
      "source": [
        "import random as r\n",
        "print (r.randint(1, 100))\n",
        "print (r.randint(1, 100))\n",
        "print (r.randint(-10, 10))\n",
        "print (r.randint(-10, 10))"
      ],
      "metadata": {
        "colab": {
          "base_uri": "https://localhost:8080/"
        },
        "id": "2ofJK9r5Dp96",
        "outputId": "287c51d3-a6b7-469d-f7a9-3a82c174633b"
      },
      "execution_count": 34,
      "outputs": [
        {
          "output_type": "stream",
          "name": "stdout",
          "text": [
            "58\n",
            "74\n",
            "6\n",
            "5\n"
          ]
        }
      ]
    },
    {
      "cell_type": "markdown",
      "source": [
        "Generate random real number"
      ],
      "metadata": {
        "id": "k-GyHDYDDr_t"
      }
    },
    {
      "cell_type": "code",
      "source": [
        "import random as r\n",
        "print (r.uniform(1, 100))\n",
        "print (r.uniform(1, 100))\n",
        "print (r.uniform (-10, 10))\n",
        "print (r.uniform (-10, 10))\n",
        "print (round(r.uniform (-10, 10),2))"
      ],
      "metadata": {
        "colab": {
          "base_uri": "https://localhost:8080/"
        },
        "id": "7C9pbzGiD6Of",
        "outputId": "a11974bf-b6bd-4b13-bde2-0097548deae5"
      },
      "execution_count": 35,
      "outputs": [
        {
          "output_type": "stream",
          "name": "stdout",
          "text": [
            "47.29245195894359\n",
            "91.61459126021663\n",
            "-6.406238749588711\n",
            "-6.993656724547894\n",
            "-2.81\n"
          ]
        }
      ]
    },
    {
      "cell_type": "markdown",
      "source": [
        "Select sample from a list of elements"
      ],
      "metadata": {
        "id": "WpPftX7rDvw4"
      }
    },
    {
      "cell_type": "code",
      "source": [
        "import random as r\n",
        "\n",
        "A=[1, 2, 3, 4, 5, 6, 7, 8, 9, 10]\n",
        "\n",
        "print (r.sample(A, 4))\n",
        "print (r.sample(A, 2))\n",
        "print (r.sample(range(0,100), 2))\n",
        "print (r.sample(range(-100,100), 5))"
      ],
      "metadata": {
        "colab": {
          "base_uri": "https://localhost:8080/"
        },
        "id": "X-aJCWXGDxod",
        "outputId": "92fc249e-827c-4b40-8cc2-25379580de07"
      },
      "execution_count": 36,
      "outputs": [
        {
          "output_type": "stream",
          "name": "stdout",
          "text": [
            "[3, 6, 10, 7]\n",
            "[7, 4]\n",
            "[49, 16]\n",
            "[-1, 64, 59, 48, -11]\n"
          ]
        }
      ]
    },
    {
      "cell_type": "markdown",
      "source": [
        "Generate random string"
      ],
      "metadata": {
        "id": "s_8sbz7OD9WJ"
      }
    },
    {
      "cell_type": "code",
      "source": [
        "import string as s\n",
        "import random as r\n",
        "print (\"String        --> \",s.ascii_letters)\n",
        "\n",
        "passwd=r.sample(s.ascii_letters, 6)\n",
        "print (\"Selected Char --> \",passwd)\n",
        "\n",
        "passwd1=\"\".join(passwd)\n",
        "print (\"passwd1       --> \",passwd1)\n",
        "\n",
        "passwd2=\"+\".join(passwd)\n",
        "print (\"passwd2       --> \",passwd2)\n",
        "\n",
        "passwd3=\"*\".join(passwd)\n",
        "print (\"passwd3       --> \",passwd3)"
      ],
      "metadata": {
        "colab": {
          "base_uri": "https://localhost:8080/"
        },
        "id": "fetvZAEUEABg",
        "outputId": "61fd7413-179f-42d9-a19f-54d5966b710b"
      },
      "execution_count": 37,
      "outputs": [
        {
          "output_type": "stream",
          "name": "stdout",
          "text": [
            "String        -->  abcdefghijklmnopqrstuvwxyzABCDEFGHIJKLMNOPQRSTUVWXYZ\n",
            "Selected Char -->  ['C', 'g', 'y', 'j', 'M', 'b']\n",
            "passwd1       -->  CgyjMb\n",
            "passwd2       -->  C+g+y+j+M+b\n",
            "passwd3       -->  C*g*y*j*M*b\n"
          ]
        }
      ]
    },
    {
      "cell_type": "markdown",
      "source": [
        "Generate random digits"
      ],
      "metadata": {
        "id": "UbhLGVtPECEH"
      }
    },
    {
      "cell_type": "code",
      "source": [
        "import string as s\n",
        "import random as r\n",
        "print (\"Digits --> \",s.digits)\n",
        "\n",
        "otp=r.sample(s.digits, 5)\n",
        "print (\"Selected num1 --> \",otp)\n",
        "otp=\"\".join(otp)\n",
        "print (\"otp1          --> \",otp)\n",
        "\n",
        "otp=r.sample(s.digits, 5)\n",
        "print (\"Selected num2 --> \",otp)\n",
        "otp=\"\".join(otp)\n",
        "print (\"otp2          --> \",otp)\n",
        "\n",
        "otp=r.sample(s.digits, 5)\n",
        "print (\"Selected num2 --> \",otp)\n",
        "otp=\"\".join(otp)\n",
        "print (\"otp3          --> \",otp)"
      ],
      "metadata": {
        "colab": {
          "base_uri": "https://localhost:8080/"
        },
        "id": "izui1IeGEE5T",
        "outputId": "9d533002-f57c-425a-a542-c2fb513c42c3"
      },
      "execution_count": 38,
      "outputs": [
        {
          "output_type": "stream",
          "name": "stdout",
          "text": [
            "Digits -->  0123456789\n",
            "Selected num1 -->  ['7', '2', '0', '8', '9']\n",
            "otp1          -->  72089\n",
            "Selected num2 -->  ['2', '9', '6', '0', '4']\n",
            "otp2          -->  29604\n",
            "Selected num2 -->  ['3', '6', '7', '8', '1']\n",
            "otp3          -->  36781\n"
          ]
        }
      ]
    },
    {
      "cell_type": "markdown",
      "source": [
        "Generate random string + digits"
      ],
      "metadata": {
        "id": "21UbgN-vEHTP"
      }
    },
    {
      "cell_type": "code",
      "source": [
        "import string as s\n",
        "import random as r\n",
        "print (\"String + Digits --> \",s.ascii_letters + s.digits)\n",
        "\n",
        "mixPasswd=r.sample(s.ascii_letters + s.digits, 5)\n",
        "print (\"\\nSelected Str1 --> \",mixPasswd)\n",
        "mixPasswd=\"\".join(mixPasswd)\n",
        "print (\"mixPasswd1    --> \",mixPasswd)\n",
        "\n",
        "mixPasswd=r.sample(s.ascii_letters + s.digits, 6)\n",
        "print (\"\\nSelected Str2 --> \",mixPasswd)\n",
        "mixPasswd=\"\".join(mixPasswd)\n",
        "print (\"mixPasswd2    --> \",mixPasswd)\n",
        "\n",
        "splChar=\"#@!~%^&*()_+=-[]{}|\"\n",
        "mixPasswd=r.sample(splChar + s.ascii_letters + s.digits, 8)\n",
        "print (\"\\nSelected Str3 --> \",mixPasswd)\n",
        "mixPasswd=\"\".join(mixPasswd)\n",
        "print (\"mixPasswd3    --> \",mixPasswd)"
      ],
      "metadata": {
        "colab": {
          "base_uri": "https://localhost:8080/"
        },
        "id": "XD3poMdUEKGG",
        "outputId": "1c534f35-6590-4a63-d63c-43f031c5acfd"
      },
      "execution_count": 39,
      "outputs": [
        {
          "output_type": "stream",
          "name": "stdout",
          "text": [
            "String + Digits -->  abcdefghijklmnopqrstuvwxyzABCDEFGHIJKLMNOPQRSTUVWXYZ0123456789\n",
            "\n",
            "Selected Str1 -->  ['c', '2', 'A', 'Q', 'g']\n",
            "mixPasswd1    -->  c2AQg\n",
            "\n",
            "Selected Str2 -->  ['o', '5', 'y', 'P', 'w', 'q']\n",
            "mixPasswd2    -->  o5yPwq\n",
            "\n",
            "Selected Str3 -->  [')', 'J', 'G', 'x', '5', '7', '3', 'Q']\n",
            "mixPasswd3    -->  )JGx573Q\n"
          ]
        }
      ]
    },
    {
      "cell_type": "markdown",
      "source": [
        "Exception Handaling"
      ],
      "metadata": {
        "id": "ZS2j42qxEMX1"
      }
    },
    {
      "cell_type": "markdown",
      "source": [
        "Error Generation"
      ],
      "metadata": {
        "id": "5tCer_nWEN-Q"
      }
    },
    {
      "cell_type": "code",
      "source": [
        "for i in range(-5,6):\n",
        "\tprint (\"100/\",i,\" --> \", 100/i)"
      ],
      "metadata": {
        "colab": {
          "base_uri": "https://localhost:8080/",
          "height": 269
        },
        "id": "vXZ8lP-WEQJ9",
        "outputId": "ed098248-6dcd-40de-9971-eb66bfccd0b5"
      },
      "execution_count": 40,
      "outputs": [
        {
          "output_type": "stream",
          "name": "stdout",
          "text": [
            "100/ -5  -->  -20.0\n",
            "100/ -4  -->  -25.0\n",
            "100/ -3  -->  -33.333333333333336\n",
            "100/ -2  -->  -50.0\n",
            "100/ -1  -->  -100.0\n"
          ]
        },
        {
          "output_type": "error",
          "ename": "ZeroDivisionError",
          "evalue": "ignored",
          "traceback": [
            "\u001b[0;31m---------------------------------------------------------------------------\u001b[0m",
            "\u001b[0;31mZeroDivisionError\u001b[0m                         Traceback (most recent call last)",
            "\u001b[0;32m<ipython-input-40-5eb017879ab5>\u001b[0m in \u001b[0;36m<cell line: 1>\u001b[0;34m()\u001b[0m\n\u001b[1;32m      1\u001b[0m \u001b[0;32mfor\u001b[0m \u001b[0mi\u001b[0m \u001b[0;32min\u001b[0m \u001b[0mrange\u001b[0m\u001b[0;34m(\u001b[0m\u001b[0;34m-\u001b[0m\u001b[0;36m5\u001b[0m\u001b[0;34m,\u001b[0m\u001b[0;36m6\u001b[0m\u001b[0;34m)\u001b[0m\u001b[0;34m:\u001b[0m\u001b[0;34m\u001b[0m\u001b[0;34m\u001b[0m\u001b[0m\n\u001b[0;32m----> 2\u001b[0;31m         \u001b[0mprint\u001b[0m \u001b[0;34m(\u001b[0m\u001b[0;34m\"100/\"\u001b[0m\u001b[0;34m,\u001b[0m\u001b[0mi\u001b[0m\u001b[0;34m,\u001b[0m\u001b[0;34m\" --> \"\u001b[0m\u001b[0;34m,\u001b[0m \u001b[0;36m100\u001b[0m\u001b[0;34m/\u001b[0m\u001b[0mi\u001b[0m\u001b[0;34m)\u001b[0m\u001b[0;34m\u001b[0m\u001b[0;34m\u001b[0m\u001b[0m\n\u001b[0m",
            "\u001b[0;31mZeroDivisionError\u001b[0m: division by zero"
          ]
        }
      ]
    },
    {
      "cell_type": "markdown",
      "source": [
        "Exception handaling for division by zero"
      ],
      "metadata": {
        "id": "XPG8TJ7_ESQD"
      }
    },
    {
      "cell_type": "code",
      "source": [
        "for i in range(-5,6):\n",
        "\ttry:\n",
        "\t\tprint (\"100/\",i,\" --> \", 100/i)\n",
        "\texcept:\n",
        "\t\tprint (\"error\")"
      ],
      "metadata": {
        "colab": {
          "base_uri": "https://localhost:8080/"
        },
        "id": "JgI6820QEUA9",
        "outputId": "562a36f7-ac98-4d62-ad3e-0cd4d4aa1d13"
      },
      "execution_count": 41,
      "outputs": [
        {
          "output_type": "stream",
          "name": "stdout",
          "text": [
            "100/ -5  -->  -20.0\n",
            "100/ -4  -->  -25.0\n",
            "100/ -3  -->  -33.333333333333336\n",
            "100/ -2  -->  -50.0\n",
            "100/ -1  -->  -100.0\n",
            "error\n",
            "100/ 1  -->  100.0\n",
            "100/ 2  -->  50.0\n",
            "100/ 3  -->  33.333333333333336\n",
            "100/ 4  -->  25.0\n",
            "100/ 5  -->  20.0\n"
          ]
        }
      ]
    },
    {
      "cell_type": "markdown",
      "source": [
        "Exception handaling for array out of index"
      ],
      "metadata": {
        "id": "fu3VJSYVEV1t"
      }
    },
    {
      "cell_type": "code",
      "source": [
        "L=[1,2,3,4,5]\n",
        "\n",
        "for i in range(8):\n",
        "\ttry:\n",
        "\t\tprint (i,\" --> \",L[i])\n",
        "\texcept:\n",
        "\t\tprint (\"error\")"
      ],
      "metadata": {
        "colab": {
          "base_uri": "https://localhost:8080/"
        },
        "id": "v6ckbjGaEYRW",
        "outputId": "a9a930d5-e205-40f5-a268-d42881b75e14"
      },
      "execution_count": 42,
      "outputs": [
        {
          "output_type": "stream",
          "name": "stdout",
          "text": [
            "0  -->  1\n",
            "1  -->  2\n",
            "2  -->  3\n",
            "3  -->  4\n",
            "4  -->  5\n",
            "error\n",
            "error\n",
            "error\n"
          ]
        }
      ]
    },
    {
      "cell_type": "markdown",
      "source": [
        "Exception handaling for file not found"
      ],
      "metadata": {
        "id": "-c2WappsEbP6"
      }
    },
    {
      "cell_type": "code",
      "source": [
        "fileName=input(\"Enter File Name: \")\n",
        "fp=open(fileName)\t# Open the file in reading mode\n",
        "fp.close()\n",
        "print (\"Done\")"
      ],
      "metadata": {
        "colab": {
          "base_uri": "https://localhost:8080/",
          "height": 235
        },
        "id": "UWfbcMIBEdJd",
        "outputId": "870f0fc1-9661-40e0-ac3d-0b24c8cbacfa"
      },
      "execution_count": 43,
      "outputs": [
        {
          "name": "stdout",
          "output_type": "stream",
          "text": [
            "Enter File Name: file.txt\n"
          ]
        },
        {
          "output_type": "error",
          "ename": "FileNotFoundError",
          "evalue": "ignored",
          "traceback": [
            "\u001b[0;31m---------------------------------------------------------------------------\u001b[0m",
            "\u001b[0;31mFileNotFoundError\u001b[0m                         Traceback (most recent call last)",
            "\u001b[0;32m<ipython-input-43-df3155df6860>\u001b[0m in \u001b[0;36m<cell line: 2>\u001b[0;34m()\u001b[0m\n\u001b[1;32m      1\u001b[0m \u001b[0mfileName\u001b[0m\u001b[0;34m=\u001b[0m\u001b[0minput\u001b[0m\u001b[0;34m(\u001b[0m\u001b[0;34m\"Enter File Name: \"\u001b[0m\u001b[0;34m)\u001b[0m\u001b[0;34m\u001b[0m\u001b[0;34m\u001b[0m\u001b[0m\n\u001b[0;32m----> 2\u001b[0;31m \u001b[0mfp\u001b[0m\u001b[0;34m=\u001b[0m\u001b[0mopen\u001b[0m\u001b[0;34m(\u001b[0m\u001b[0mfileName\u001b[0m\u001b[0;34m)\u001b[0m       \u001b[0;31m# Open the file in reading mode\u001b[0m\u001b[0;34m\u001b[0m\u001b[0;34m\u001b[0m\u001b[0m\n\u001b[0m\u001b[1;32m      3\u001b[0m \u001b[0mfp\u001b[0m\u001b[0;34m.\u001b[0m\u001b[0mclose\u001b[0m\u001b[0;34m(\u001b[0m\u001b[0;34m)\u001b[0m\u001b[0;34m\u001b[0m\u001b[0;34m\u001b[0m\u001b[0m\n\u001b[1;32m      4\u001b[0m \u001b[0mprint\u001b[0m \u001b[0;34m(\u001b[0m\u001b[0;34m\"Done\"\u001b[0m\u001b[0;34m)\u001b[0m\u001b[0;34m\u001b[0m\u001b[0;34m\u001b[0m\u001b[0m\n",
            "\u001b[0;31mFileNotFoundError\u001b[0m: [Errno 2] No such file or directory: 'file.txt'"
          ]
        }
      ]
    },
    {
      "cell_type": "markdown",
      "source": [
        "Exception handaling for file not found"
      ],
      "metadata": {
        "id": "Ho39r0edEfT4"
      }
    },
    {
      "cell_type": "code",
      "source": [
        "fileName=input(\"Enter File Name: \")\n",
        "try:\n",
        "\tfp=open(fileName)\t# Open the file in reading mode\n",
        "\tfp.close()\n",
        "except:\n",
        "\tprint (\"Error !! \\\"%s\\\" File Not Found\"%(fileName))\n",
        "\n",
        "print (\"Done\")"
      ],
      "metadata": {
        "colab": {
          "base_uri": "https://localhost:8080/"
        },
        "id": "uL_JriFPEhuQ",
        "outputId": "05cc89e1-d1a8-4127-87ee-370224673e80"
      },
      "execution_count": 44,
      "outputs": [
        {
          "output_type": "stream",
          "name": "stdout",
          "text": [
            "Enter File Name: file.txt\n",
            "Error !! \"file.txt\" File Not Found\n",
            "Done\n"
          ]
        }
      ]
    },
    {
      "cell_type": "markdown",
      "source": [
        "Data Structure 1 - List"
      ],
      "metadata": {
        "id": "LViAX2JNEjxC"
      }
    },
    {
      "cell_type": "markdown",
      "source": [
        "List Declaration\n"
      ],
      "metadata": {
        "id": "B_9YK8kbElfF"
      }
    },
    {
      "cell_type": "code",
      "source": [
        "L = [\"Pratham\",  'Sharma', 3.14,  3 ]\n",
        "print (\"Original List: \", L)\n",
        "print (\"Number of elements in list: \", len(L))"
      ],
      "metadata": {
        "colab": {
          "base_uri": "https://localhost:8080/"
        },
        "id": "V390sYdnEn-Y",
        "outputId": "2a65c96a-b697-4f26-8798-75f6e1875bfd"
      },
      "execution_count": 45,
      "outputs": [
        {
          "output_type": "stream",
          "name": "stdout",
          "text": [
            "Original List:  ['Pratham', 'Sharma', 3.14, 3]\n",
            "Number of elements in list:  4\n"
          ]
        }
      ]
    },
    {
      "cell_type": "markdown",
      "source": [
        "List Iteration"
      ],
      "metadata": {
        "id": "LZsy5G5lEr-X"
      }
    },
    {
      "cell_type": "code",
      "source": [
        "L = [\"Pratham\",  'Sharma', 3.14,  3 ]\n",
        "print (\"Original List: \", L)\n",
        "i=0\n",
        "while i < len(L): \n",
        "\tprint (L[i])\n",
        "\ti+=1"
      ],
      "metadata": {
        "colab": {
          "base_uri": "https://localhost:8080/"
        },
        "id": "nk3bx64cEvI5",
        "outputId": "8b4cef2a-e12f-4287-ecad-8da6786ef187"
      },
      "execution_count": 46,
      "outputs": [
        {
          "output_type": "stream",
          "name": "stdout",
          "text": [
            "Original List:  ['Pratham', 'Sharma', 3.14, 3]\n",
            "Pratham\n",
            "Sharma\n",
            "3.14\n",
            "3\n"
          ]
        }
      ]
    },
    {
      "cell_type": "markdown",
      "source": [
        "List Iteration using for loop"
      ],
      "metadata": {
        "id": "GeKl0qi1Ew9t"
      }
    },
    {
      "cell_type": "code",
      "source": [
        "L = [\"Pratham\",  'Sharma', 3.14,  3 ]\n",
        "print (\"Original List: \", L)\n",
        "for i in range(0, len(L)):\n",
        "\tprint (L[i])"
      ],
      "metadata": {
        "colab": {
          "base_uri": "https://localhost:8080/"
        },
        "id": "BuM9BsZoEy4Z",
        "outputId": "0335d18c-5fa2-47d5-b2f5-c37d4b4f4d66"
      },
      "execution_count": 47,
      "outputs": [
        {
          "output_type": "stream",
          "name": "stdout",
          "text": [
            "Original List:  ['Pratham', 'Sharma', 3.14, 3]\n",
            "Pratham\n",
            "Sharma\n",
            "3.14\n",
            "3\n"
          ]
        }
      ]
    },
    {
      "cell_type": "markdown",
      "source": [
        "List Iteration using for loop\n"
      ],
      "metadata": {
        "id": "nNDEqd7RE1hC"
      }
    },
    {
      "cell_type": "code",
      "source": [
        "L = [\"Pratham\",  'Sharma', 3.14,  3 ]\n",
        "print (\"Original List --> \", L)\n",
        "for s in L:\n",
        "\tprint (s)"
      ],
      "metadata": {
        "colab": {
          "base_uri": "https://localhost:8080/"
        },
        "id": "kg_Xxs2iE3lV",
        "outputId": "e78fa1e3-4a13-47f5-edb3-7646a64e1c9c"
      },
      "execution_count": 48,
      "outputs": [
        {
          "output_type": "stream",
          "name": "stdout",
          "text": [
            "Original List -->  ['Pratham', 'Sharma', 3.14, 3]\n",
            "Pratham\n",
            "Sharma\n",
            "3.14\n",
            "3\n"
          ]
        }
      ]
    },
    {
      "cell_type": "markdown",
      "source": [
        "Adding and deleting from list"
      ],
      "metadata": {
        "id": "S4ryDUkKE5kb"
      }
    },
    {
      "cell_type": "code",
      "source": [
        "L = [\"Pratham\",  'Sharma', 3.14,  3 ]\n",
        "print (\"Original List       --> \", L)\n",
        "\n",
        "L.append(\"Rahul\")\n",
        "print (\"List After Adding   --> \", L)\n",
        "\n",
        "del L[1]\n",
        "print (\"List After Deleting --> \", L)"
      ],
      "metadata": {
        "colab": {
          "base_uri": "https://localhost:8080/"
        },
        "id": "NfKdxnkaE7fP",
        "outputId": "d0a46acf-11df-4076-a8e2-797da9a3f3f6"
      },
      "execution_count": 49,
      "outputs": [
        {
          "output_type": "stream",
          "name": "stdout",
          "text": [
            "Original List       -->  ['Pratham', 'Sharma', 3.14, 3]\n",
            "List After Adding   -->  ['Pratham', 'Sharma', 3.14, 3, 'Rahul']\n",
            "List After Deleting -->  ['Pratham', 3.14, 3, 'Rahul']\n"
          ]
        }
      ]
    },
    {
      "cell_type": "markdown",
      "source": [
        "Sum/Average of List"
      ],
      "metadata": {
        "id": "hXu2dVS8E9hp"
      }
    },
    {
      "cell_type": "code",
      "source": [
        "L=[3, 6, 9, 12, 5, 3, 2]\n",
        "print (\"Original List --> \", L)\n",
        "\n",
        "print (\"Sum     --> \", sum(L))\n",
        "print (\"Average --> \", sum(L)/len(L))\n",
        "print (\"Average --> \", sum(L)//len(L))\n",
        "\n",
        "print (\"L * 3   --> \", L * 3)     # Every element get tripled\n",
        "print (\"L + L   --> \", L + L)     # Every element get doubled"
      ],
      "metadata": {
        "colab": {
          "base_uri": "https://localhost:8080/"
        },
        "id": "tu0fgAMgFAJn",
        "outputId": "2f2f4886-6645-4ee3-e0f2-a98024a3958d"
      },
      "execution_count": 50,
      "outputs": [
        {
          "output_type": "stream",
          "name": "stdout",
          "text": [
            "Original List -->  [3, 6, 9, 12, 5, 3, 2]\n",
            "Sum     -->  40\n",
            "Average -->  5.714285714285714\n",
            "Average -->  5\n",
            "L * 3   -->  [3, 6, 9, 12, 5, 3, 2, 3, 6, 9, 12, 5, 3, 2, 3, 6, 9, 12, 5, 3, 2]\n",
            "L + L   -->  [3, 6, 9, 12, 5, 3, 2, 3, 6, 9, 12, 5, 3, 2]\n"
          ]
        }
      ]
    },
    {
      "cell_type": "markdown",
      "source": [
        "Min/Max/Sort the list"
      ],
      "metadata": {
        "id": "ar0mWUuaFCSe"
      }
    },
    {
      "cell_type": "code",
      "source": [
        "L=[3, 6, 9, 12, 5, 3, 2]\n",
        "print (\"Original List --> \", L)\n",
        "\n",
        "print (\"max --> \", max(L))\n",
        "print (\"min --> \", min(L))\n",
        "\n",
        "print (\"\\nBefore Sort            --> \", L)\n",
        "L.sort()\n",
        "\n",
        "print (\"After Sort (Asending)  --> \", L)\n",
        "\n",
        "L.sort(reverse=True)\n",
        "print (\"After Sort (Desending) --> \", L)"
      ],
      "metadata": {
        "colab": {
          "base_uri": "https://localhost:8080/"
        },
        "id": "5br5ysp6FENq",
        "outputId": "cc3e6d30-2277-478c-c3ba-72e462eb65fc"
      },
      "execution_count": 51,
      "outputs": [
        {
          "output_type": "stream",
          "name": "stdout",
          "text": [
            "Original List -->  [3, 6, 9, 12, 5, 3, 2]\n",
            "max -->  12\n",
            "min -->  2\n",
            "\n",
            "Before Sort            -->  [3, 6, 9, 12, 5, 3, 2]\n",
            "After Sort (Asending)  -->  [2, 3, 3, 5, 6, 9, 12]\n",
            "After Sort (Desending) -->  [12, 9, 6, 5, 3, 3, 2]\n"
          ]
        }
      ]
    },
    {
      "cell_type": "markdown",
      "source": [
        "Merge lists and select elements"
      ],
      "metadata": {
        "id": "JM2aKZuJFGp7"
      }
    },
    {
      "cell_type": "code",
      "source": [
        "L1 = [3, 6, 9]\n",
        "L2 = [12, 5, 3, 2]\n",
        "L3 = L1 + L2\n",
        "print (\"L1 --> \",L1)\n",
        "print (\"L2 --> \",L2)\n",
        "print (\"L3 --> \",L3)\n",
        "\n",
        "print (\"\\nL3[2:]  --> \",L3[2:])\n",
        "print (\"L3[2:5] --> \",L3[2:5])\n",
        "print (\"L3[:-1] --> \",L3[:-1])\n",
        "print (\"L3[::2] --> \",L3[::2])"
      ],
      "metadata": {
        "colab": {
          "base_uri": "https://localhost:8080/"
        },
        "id": "tKlmtMEhFJUE",
        "outputId": "12187dd5-3916-4258-8c9a-c8e956f82d03"
      },
      "execution_count": 52,
      "outputs": [
        {
          "output_type": "stream",
          "name": "stdout",
          "text": [
            "L1 -->  [3, 6, 9]\n",
            "L2 -->  [12, 5, 3, 2]\n",
            "L3 -->  [3, 6, 9, 12, 5, 3, 2]\n",
            "\n",
            "L3[2:]  -->  [9, 12, 5, 3, 2]\n",
            "L3[2:5] -->  [9, 12, 5]\n",
            "L3[:-1] -->  [3, 6, 9, 12, 5, 3]\n",
            "L3[::2] -->  [3, 9, 5, 2]\n"
          ]
        }
      ]
    },
    {
      "cell_type": "markdown",
      "source": [
        "Multiply all elements of the list by a constant\n"
      ],
      "metadata": {
        "id": "psxRpYhZFLqS"
      }
    },
    {
      "cell_type": "code",
      "source": [
        "L = [12, 5, 3, 2, 7]\n",
        "print (\"Original List --> \", L)\n",
        "\n",
        "newL = [ i * 5 for i in L ]\n",
        "print (\"After Multiply with constant --> \", newL)"
      ],
      "metadata": {
        "colab": {
          "base_uri": "https://localhost:8080/"
        },
        "id": "JlH6KZV-FOPn",
        "outputId": "1594842d-7bc1-4946-82ed-63a637aac8f2"
      },
      "execution_count": 53,
      "outputs": [
        {
          "output_type": "stream",
          "name": "stdout",
          "text": [
            "Original List -->  [12, 5, 3, 2, 7]\n",
            "After Multiply with constant -->  [60, 25, 15, 10, 35]\n"
          ]
        }
      ]
    },
    {
      "cell_type": "markdown",
      "source": [
        "Searching in the list"
      ],
      "metadata": {
        "id": "XImIFSA3FQ-i"
      }
    },
    {
      "cell_type": "code",
      "source": [
        "L=[3, 6, 9, 12, 5, 3, 2]\n",
        "print (\"Original List --> \", 6 in L)\n",
        "print (\"Original List --> \", 10 in L)\n",
        "print (\"Original List --> \", 12 in L)\n",
        "\n",
        "if (6 in L) == True:\n",
        "\tprint (\"Present\")\n",
        "else:\n",
        "\tprint (\"Not Present\")\n",
        "\n",
        "if 10 in L == False:\n",
        "\tprint (\"Not Present\")\n",
        "else:\n",
        "\tprint (\"Present\")"
      ],
      "metadata": {
        "colab": {
          "base_uri": "https://localhost:8080/"
        },
        "id": "Tzm9YKSCFT6F",
        "outputId": "46b237e3-b4ee-4646-861d-9bb245851dfe"
      },
      "execution_count": 54,
      "outputs": [
        {
          "output_type": "stream",
          "name": "stdout",
          "text": [
            "Original List -->  True\n",
            "Original List -->  False\n",
            "Original List -->  True\n",
            "Present\n",
            "Present\n"
          ]
        }
      ]
    },
    {
      "cell_type": "markdown",
      "source": [
        "Data Structure 2 - Dictionary"
      ],
      "metadata": {
        "id": "sZ8zbTJzFV2_"
      }
    },
    {
      "cell_type": "markdown",
      "source": [
        " Declare Dictionary"
      ],
      "metadata": {
        "id": "8AZlE8UZFXnl"
      }
    },
    {
      "cell_type": "code",
      "source": [
        "CGPA={1:8.9, 2:5.6, 4:6.7, 7:9.1, 8:5.3}\n",
        "print (\"Dictionary      --> \", CGPA)\n",
        "print (\"Num of elements --> \", len(CGPA))\n",
        "\n",
        "print (\"CGPA of 1       --> \", CGPA[1])\n",
        "print (\"CGPA of 4       --> \", CGPA[4])\n",
        "print (\"CGPA of 7       --> \", CGPA[7])\n",
        "print (\"CGPA of 3       --> \", CGPA[3])"
      ],
      "metadata": {
        "colab": {
          "base_uri": "https://localhost:8080/",
          "height": 287
        },
        "id": "M_MDRJKoFpKR",
        "outputId": "83afa7e0-0608-4498-cdeb-c32ce92979ee"
      },
      "execution_count": 55,
      "outputs": [
        {
          "output_type": "stream",
          "name": "stdout",
          "text": [
            "Dictionary      -->  {1: 8.9, 2: 5.6, 4: 6.7, 7: 9.1, 8: 5.3}\n",
            "Num of elements -->  5\n",
            "CGPA of 1       -->  8.9\n",
            "CGPA of 4       -->  6.7\n",
            "CGPA of 7       -->  9.1\n"
          ]
        },
        {
          "output_type": "error",
          "ename": "KeyError",
          "evalue": "ignored",
          "traceback": [
            "\u001b[0;31m---------------------------------------------------------------------------\u001b[0m",
            "\u001b[0;31mKeyError\u001b[0m                                  Traceback (most recent call last)",
            "\u001b[0;32m<ipython-input-55-598d6ecb7ab2>\u001b[0m in \u001b[0;36m<cell line: 8>\u001b[0;34m()\u001b[0m\n\u001b[1;32m      6\u001b[0m \u001b[0mprint\u001b[0m \u001b[0;34m(\u001b[0m\u001b[0;34m\"CGPA of 4       --> \"\u001b[0m\u001b[0;34m,\u001b[0m \u001b[0mCGPA\u001b[0m\u001b[0;34m[\u001b[0m\u001b[0;36m4\u001b[0m\u001b[0;34m]\u001b[0m\u001b[0;34m)\u001b[0m\u001b[0;34m\u001b[0m\u001b[0;34m\u001b[0m\u001b[0m\n\u001b[1;32m      7\u001b[0m \u001b[0mprint\u001b[0m \u001b[0;34m(\u001b[0m\u001b[0;34m\"CGPA of 7       --> \"\u001b[0m\u001b[0;34m,\u001b[0m \u001b[0mCGPA\u001b[0m\u001b[0;34m[\u001b[0m\u001b[0;36m7\u001b[0m\u001b[0;34m]\u001b[0m\u001b[0;34m)\u001b[0m\u001b[0;34m\u001b[0m\u001b[0;34m\u001b[0m\u001b[0m\n\u001b[0;32m----> 8\u001b[0;31m \u001b[0mprint\u001b[0m \u001b[0;34m(\u001b[0m\u001b[0;34m\"CGPA of 3       --> \"\u001b[0m\u001b[0;34m,\u001b[0m \u001b[0mCGPA\u001b[0m\u001b[0;34m[\u001b[0m\u001b[0;36m3\u001b[0m\u001b[0;34m]\u001b[0m\u001b[0;34m)\u001b[0m\u001b[0;34m\u001b[0m\u001b[0;34m\u001b[0m\u001b[0m\n\u001b[0m",
            "\u001b[0;31mKeyError\u001b[0m: 3"
          ]
        }
      ]
    },
    {
      "cell_type": "markdown",
      "source": [
        "Triverse dictionary"
      ],
      "metadata": {
        "id": "HUZkzq5-FtKx"
      }
    },
    {
      "cell_type": "code",
      "source": [
        "CGPA={1:8.9, 2:5.6, 4:6.7, 7:9.1, 8:5.3}\n",
        "for k in CGPA:\n",
        "\tprint (\"CGPA of \", k, \" --> \", CGPA[k])"
      ],
      "metadata": {
        "colab": {
          "base_uri": "https://localhost:8080/"
        },
        "id": "R9JQMbqOFxn9",
        "outputId": "be3114cd-b851-4b6b-af7b-f24077eae327"
      },
      "execution_count": 56,
      "outputs": [
        {
          "output_type": "stream",
          "name": "stdout",
          "text": [
            "CGPA of  1  -->  8.9\n",
            "CGPA of  2  -->  5.6\n",
            "CGPA of  4  -->  6.7\n",
            "CGPA of  7  -->  9.1\n",
            "CGPA of  8  -->  5.3\n"
          ]
        }
      ]
    },
    {
      "cell_type": "markdown",
      "source": [
        "Getting Keys and Values"
      ],
      "metadata": {
        "id": "1IMiRR8tFzgJ"
      }
    },
    {
      "cell_type": "code",
      "source": [
        "CGPA={1:8.9, 2:5.6, 4:6.7, 7:9.1, 8:5.3}\n",
        "print (\"Dictionary --> \", CGPA)\n",
        "print (\"Keys       --> \", list(CGPA.keys()))\n",
        "print (\"Values     --> \", list(CGPA.values()))"
      ],
      "metadata": {
        "colab": {
          "base_uri": "https://localhost:8080/"
        },
        "id": "6LmbNFydF1vJ",
        "outputId": "47803730-8284-4a71-bfd7-60f461466308"
      },
      "execution_count": 57,
      "outputs": [
        {
          "output_type": "stream",
          "name": "stdout",
          "text": [
            "Dictionary -->  {1: 8.9, 2: 5.6, 4: 6.7, 7: 9.1, 8: 5.3}\n",
            "Keys       -->  [1, 2, 4, 7, 8]\n",
            "Values     -->  [8.9, 5.6, 6.7, 9.1, 5.3]\n"
          ]
        }
      ]
    },
    {
      "cell_type": "markdown",
      "source": [
        "Updating, Adding and Deleting from Dictionary\n"
      ],
      "metadata": {
        "id": "6RmyI506F3l1"
      }
    },
    {
      "cell_type": "code",
      "source": [
        "CGPA={1:8.9,2:5.6,4:6.7,7:9.1,8:5.3}\n",
        "print (\"Original Dictionary --> \", CGPA)\n",
        "\n",
        "CGPA[4] = 9.2\n",
        "print (\"After Updating (4)  --> \", CGPA)\n",
        "\n",
        "CGPA[3] = 8.6\n",
        "print (\"After Adding (3)    --> \", CGPA)\n",
        "\n",
        "del CGPA[1]\n",
        "print (\"After Deleting (1)  --> \", CGPA)\n",
        "\n",
        "CGPA.clear()\n",
        "print (\"After Clear         --> \", CGPA)\n",
        "\n",
        "del CGPA\n",
        "print (\"After Delete        --> \", CGPA)"
      ],
      "metadata": {
        "colab": {
          "base_uri": "https://localhost:8080/",
          "height": 287
        },
        "id": "B7I3UDDQF5lB",
        "outputId": "46e3f3de-5fdd-4a69-b3ed-7322e71bf087"
      },
      "execution_count": 58,
      "outputs": [
        {
          "output_type": "stream",
          "name": "stdout",
          "text": [
            "Original Dictionary -->  {1: 8.9, 2: 5.6, 4: 6.7, 7: 9.1, 8: 5.3}\n",
            "After Updating (4)  -->  {1: 8.9, 2: 5.6, 4: 9.2, 7: 9.1, 8: 5.3}\n",
            "After Adding (3)    -->  {1: 8.9, 2: 5.6, 4: 9.2, 7: 9.1, 8: 5.3, 3: 8.6}\n",
            "After Deleting (1)  -->  {2: 5.6, 4: 9.2, 7: 9.1, 8: 5.3, 3: 8.6}\n",
            "After Clear         -->  {}\n"
          ]
        },
        {
          "output_type": "error",
          "ename": "NameError",
          "evalue": "ignored",
          "traceback": [
            "\u001b[0;31m---------------------------------------------------------------------------\u001b[0m",
            "\u001b[0;31mNameError\u001b[0m                                 Traceback (most recent call last)",
            "\u001b[0;32m<ipython-input-58-81104b3723b2>\u001b[0m in \u001b[0;36m<cell line: 17>\u001b[0;34m()\u001b[0m\n\u001b[1;32m     15\u001b[0m \u001b[0;34m\u001b[0m\u001b[0m\n\u001b[1;32m     16\u001b[0m \u001b[0;32mdel\u001b[0m \u001b[0mCGPA\u001b[0m\u001b[0;34m\u001b[0m\u001b[0;34m\u001b[0m\u001b[0m\n\u001b[0;32m---> 17\u001b[0;31m \u001b[0mprint\u001b[0m \u001b[0;34m(\u001b[0m\u001b[0;34m\"After Delete        --> \"\u001b[0m\u001b[0;34m,\u001b[0m \u001b[0mCGPA\u001b[0m\u001b[0;34m)\u001b[0m\u001b[0;34m\u001b[0m\u001b[0;34m\u001b[0m\u001b[0m\n\u001b[0m",
            "\u001b[0;31mNameError\u001b[0m: name 'CGPA' is not defined"
          ]
        }
      ]
    },
    {
      "cell_type": "markdown",
      "source": [
        "Checking for Key in Dictionary"
      ],
      "metadata": {
        "id": "5OnmyTvzF7kU"
      }
    },
    {
      "cell_type": "code",
      "source": [
        "CGPA={1:8.9, 2:5.6, 4:6.7, 7:9.1, 8:5.3}\n",
        "print (\"Original Dictionary --> \", CGPA)\n",
        "print (\"Is Key 2 Present    --> \", 2 in CGPA)\n",
        "print (\"Is Key 9 Present    --> \", 9 in CGPA)"
      ],
      "metadata": {
        "colab": {
          "base_uri": "https://localhost:8080/"
        },
        "id": "t5Q6WP_LF949",
        "outputId": "afd7c38b-7333-461a-ad84-17f20128c230"
      },
      "execution_count": 59,
      "outputs": [
        {
          "output_type": "stream",
          "name": "stdout",
          "text": [
            "Original Dictionary -->  {1: 8.9, 2: 5.6, 4: 6.7, 7: 9.1, 8: 5.3}\n",
            "Is Key 2 Present    -->  True\n",
            "Is Key 9 Present    -->  False\n"
          ]
        }
      ]
    },
    {
      "cell_type": "markdown",
      "source": [
        "More example1"
      ],
      "metadata": {
        "id": "mGI-tRb8F__z"
      }
    },
    {
      "cell_type": "code",
      "source": [
        "HomeTown={\"Prashant\":\"Delhi\", \"Govind\":\"Gwalior\", \"Anil\":\"Morena\", \"Pankaj\":\"Agra\"}\n",
        "print (\"Original Dictionary --> \", HomeTown)\n",
        "print (\"Home Town of Prashant is --> \", HomeTown[\"Prashant\"])\n",
        "print (\"Home Town of Govind is   --> \", HomeTown[\"Govind\"])\n",
        "print (\"Home Town of Anil is     --> \", HomeTown[\"Anil\"])\n",
        "print (\"Home Town of Pankaj is   --> \", HomeTown[\"Pankaj\"])\n"
      ],
      "metadata": {
        "colab": {
          "base_uri": "https://localhost:8080/"
        },
        "id": "Oo1mkJo8GCrF",
        "outputId": "23cee595-1c12-42e7-d43c-36d75e6b5d6e"
      },
      "execution_count": 60,
      "outputs": [
        {
          "output_type": "stream",
          "name": "stdout",
          "text": [
            "Original Dictionary -->  {'Prashant': 'Delhi', 'Govind': 'Gwalior', 'Anil': 'Morena', 'Pankaj': 'Agra'}\n",
            "Home Town of Prashant is -->  Delhi\n",
            "Home Town of Govind is   -->  Gwalior\n",
            "Home Town of Anil is     -->  Morena\n",
            "Home Town of Pankaj is   -->  Agra\n"
          ]
        }
      ]
    },
    {
      "cell_type": "markdown",
      "source": [
        "More example2"
      ],
      "metadata": {
        "id": "xLCApGXsGEfO"
      }
    },
    {
      "cell_type": "code",
      "source": [
        "HomeTown={\"Prashant\":\"Delhi\", \"Govind\":\"Gwalior\", \"Anil\":\"Morena\", \"Pankaj\":\"Agra\"}\n",
        "print (\"Original Dictionary --> \", HomeTown)\n",
        "\n",
        "for d in HomeTown:\n",
        "\tprint (\"Home Town of \", d, \" is  --> \", HomeTown[d])"
      ],
      "metadata": {
        "colab": {
          "base_uri": "https://localhost:8080/"
        },
        "id": "m4LAHGzvGGsy",
        "outputId": "6127639d-77bc-4a56-c8de-cb93c4581017"
      },
      "execution_count": 61,
      "outputs": [
        {
          "output_type": "stream",
          "name": "stdout",
          "text": [
            "Original Dictionary -->  {'Prashant': 'Delhi', 'Govind': 'Gwalior', 'Anil': 'Morena', 'Pankaj': 'Agra'}\n",
            "Home Town of  Prashant  is  -->  Delhi\n",
            "Home Town of  Govind  is  -->  Gwalior\n",
            "Home Town of  Anil  is  -->  Morena\n",
            "Home Town of  Pankaj  is  -->  Agra\n"
          ]
        }
      ]
    },
    {
      "cell_type": "markdown",
      "source": [
        "Data Structure 3 - Tuple"
      ],
      "metadata": {
        "id": "JdTN1Gg9GJZu"
      }
    },
    {
      "cell_type": "markdown",
      "source": [
        "Declare Tuple"
      ],
      "metadata": {
        "id": "ydlIJMWPGLM2"
      }
    },
    {
      "cell_type": "code",
      "source": [
        "# Method 1\n",
        "T = (\"Pratham\", 'Sharma', 3.14, 3)\n",
        "\n",
        "print (\"T               -->\", T)\n",
        "print (\"Num of elements -->\", len(T))\n",
        "print (\"Type of Object  -->\", type(T))"
      ],
      "metadata": {
        "colab": {
          "base_uri": "https://localhost:8080/"
        },
        "id": "YepXFp7BGN2i",
        "outputId": "57e3c0c1-5c99-4466-db93-9eaca035d340"
      },
      "execution_count": 62,
      "outputs": [
        {
          "output_type": "stream",
          "name": "stdout",
          "text": [
            "T               --> ('Pratham', 'Sharma', 3.14, 3)\n",
            "Num of elements --> 4\n",
            "Type of Object  --> <class 'tuple'>\n"
          ]
        }
      ]
    },
    {
      "cell_type": "code",
      "source": [
        "# Method 2\n",
        "T = tuple([\"Pratham\", 'Sharma', 3.14, 3])   # Convert list to tuple\n",
        "#T = tuple((\"Pratham\", 'Sharma', 3.14, 3))  # Also Works\n",
        "\n",
        "print (\"T               -->\", T)\n",
        "print (\"Num of elements -->\", len(T))\n",
        "print (\"Type of Object  -->\", type(T))"
      ],
      "metadata": {
        "colab": {
          "base_uri": "https://localhost:8080/"
        },
        "id": "AdicZtTzGRs0",
        "outputId": "8e6f13fb-b008-484b-cdb8-4ecff01666c6"
      },
      "execution_count": 63,
      "outputs": [
        {
          "output_type": "stream",
          "name": "stdout",
          "text": [
            "T               --> ('Pratham', 'Sharma', 3.14, 3)\n",
            "Num of elements --> 4\n",
            "Type of Object  --> <class 'tuple'>\n"
          ]
        }
      ]
    },
    {
      "cell_type": "markdown",
      "source": [
        "Tuple Iteration"
      ],
      "metadata": {
        "id": "_VLe0LEwGToF"
      }
    },
    {
      "cell_type": "code",
      "source": [
        "T = (\"Pratham\", 'Sharma', 3.14, 3)\n",
        "print (\"T -->\", T)\n",
        "\n",
        "i = 0\n",
        "while i < len(T): \n",
        "    print (T[i])\n",
        "    i += 1"
      ],
      "metadata": {
        "colab": {
          "base_uri": "https://localhost:8080/"
        },
        "id": "I624UR0xGVoh",
        "outputId": "69195cf0-33d7-482c-bd26-999091d55678"
      },
      "execution_count": 64,
      "outputs": [
        {
          "output_type": "stream",
          "name": "stdout",
          "text": [
            "T --> ('Pratham', 'Sharma', 3.14, 3)\n",
            "Pratham\n",
            "Sharma\n",
            "3.14\n",
            "3\n"
          ]
        }
      ]
    },
    {
      "cell_type": "markdown",
      "source": [
        " Tuple iteration using for loop"
      ],
      "metadata": {
        "id": "0TTXAXVZGXyB"
      }
    },
    {
      "cell_type": "code",
      "source": [
        "T = (\"Pratham\", 'Sharma', 3.14, 3)\n",
        "print (\"T -->\", T)\n",
        "\n",
        "for i in range(0, len(T)):\n",
        "    print (T[i])"
      ],
      "metadata": {
        "colab": {
          "base_uri": "https://localhost:8080/"
        },
        "id": "Y_jARdrUGahh",
        "outputId": "75dd7b12-cac4-44f3-c3a8-db407be8ff87"
      },
      "execution_count": 65,
      "outputs": [
        {
          "output_type": "stream",
          "name": "stdout",
          "text": [
            "T --> ('Pratham', 'Sharma', 3.14, 3)\n",
            "Pratham\n",
            "Sharma\n",
            "3.14\n",
            "3\n"
          ]
        }
      ]
    },
    {
      "cell_type": "markdown",
      "source": [
        "Tuple iteration using for loop"
      ],
      "metadata": {
        "id": "fDpz012lGcgS"
      }
    },
    {
      "cell_type": "code",
      "source": [
        "T = (\"Pratham\", 'Sharma', 3.14, 3)\n",
        "print (\"T -->\", T)\n",
        "\n",
        "for s in T:\n",
        "    print (s)"
      ],
      "metadata": {
        "colab": {
          "base_uri": "https://localhost:8080/"
        },
        "id": "bwCiQrQpGhpg",
        "outputId": "07d401e6-36bf-4987-f15d-af3a83d5ef7d"
      },
      "execution_count": 66,
      "outputs": [
        {
          "output_type": "stream",
          "name": "stdout",
          "text": [
            "T --> ('Pratham', 'Sharma', 3.14, 3)\n",
            "Pratham\n",
            "Sharma\n",
            "3.14\n",
            "3\n"
          ]
        }
      ]
    },
    {
      "cell_type": "markdown",
      "source": [
        "Accessing/Selecting in Tuple"
      ],
      "metadata": {
        "id": "ftawfqSBGjk6"
      }
    },
    {
      "cell_type": "code",
      "source": [
        "# Example 1:\n",
        "T = (3, 6, 9, 12, 5, 3, 2)\n",
        "print (\"T     -->\", T)\n",
        "\n",
        "print (\"T[1]  -->\", T[1])\n",
        "print (\"T[2]  -->\", T[2])\n",
        "print (\"T[-1] -->\", T[-1])\n",
        "print (\"T[-2] -->\", T[-2])"
      ],
      "metadata": {
        "colab": {
          "base_uri": "https://localhost:8080/"
        },
        "id": "6sDbbMVPGn0c",
        "outputId": "b85454aa-9eab-4a0c-f67a-c6c4b1765701"
      },
      "execution_count": 67,
      "outputs": [
        {
          "output_type": "stream",
          "name": "stdout",
          "text": [
            "T     --> (3, 6, 9, 12, 5, 3, 2)\n",
            "T[1]  --> 6\n",
            "T[2]  --> 9\n",
            "T[-1] --> 2\n",
            "T[-2] --> 3\n"
          ]
        }
      ]
    },
    {
      "cell_type": "code",
      "source": [
        "# Example 2:\n",
        "T = (3, 6, 9, 12, 5, 3, 2)\n",
        "print (\"T        -->\", T)\n",
        "\n",
        "print (\"T[1:3]   -->\", T[1:3])\n",
        "print (\"T[2:]    -->\", T[2:])\n",
        "print (\"T[2:5]   -->\", T[2:5])\n",
        "print (\"T[:2]    -->\", T[:2])\n",
        "print (\"T[:-1]   -->\", T[:-1])\n",
        "print (\"T[-4:-1] -->\", T[-4:-1])"
      ],
      "metadata": {
        "colab": {
          "base_uri": "https://localhost:8080/"
        },
        "id": "SAAGb-8oGqY-",
        "outputId": "53062db4-ca2d-4a44-b4e9-5947fd575bf1"
      },
      "execution_count": 68,
      "outputs": [
        {
          "output_type": "stream",
          "name": "stdout",
          "text": [
            "T        --> (3, 6, 9, 12, 5, 3, 2)\n",
            "T[1:3]   --> (6, 9)\n",
            "T[2:]    --> (9, 12, 5, 3, 2)\n",
            "T[2:5]   --> (9, 12, 5)\n",
            "T[:2]    --> (3, 6)\n",
            "T[:-1]   --> (3, 6, 9, 12, 5, 3)\n",
            "T[-4:-1] --> (12, 5, 3)\n"
          ]
        }
      ]
    },
    {
      "cell_type": "markdown",
      "source": [
        "Sum/Average of Tuple"
      ],
      "metadata": {
        "id": "i5_sFPcsGwEf"
      }
    },
    {
      "cell_type": "code",
      "source": [
        "T = (3, 6, 9, 12, 5, 3, 2)\n",
        "print (\"T       -->\", T)\n",
        "print (\"Sum     -->\", sum(T))\n",
        "print (\"Average -->\", sum(T)/len(T))\n",
        "print (\"Average -->\", sum(T)//len(T))"
      ],
      "metadata": {
        "colab": {
          "base_uri": "https://localhost:8080/"
        },
        "id": "-uttOZjRGz-9",
        "outputId": "048087e0-a445-47fe-a0c0-eab7e1b93efe"
      },
      "execution_count": 69,
      "outputs": [
        {
          "output_type": "stream",
          "name": "stdout",
          "text": [
            "T       --> (3, 6, 9, 12, 5, 3, 2)\n",
            "Sum     --> 40\n",
            "Average --> 5.714285714285714\n",
            "Average --> 5\n"
          ]
        }
      ]
    },
    {
      "cell_type": "markdown",
      "source": [
        "Min/Max in Tuple"
      ],
      "metadata": {
        "id": "OVO71fbiG2AC"
      }
    },
    {
      "cell_type": "code",
      "source": [
        "# Example 1\n",
        "T = (3, 6, 9, 12, 5, 3, 2)                # Integer Tuple\n",
        "print (\"T   -->\", T)\n",
        "print (\"Max -->\", max(T))\n",
        "print (\"Min -->\", min(T))"
      ],
      "metadata": {
        "colab": {
          "base_uri": "https://localhost:8080/"
        },
        "id": "noUFsWTKG39D",
        "outputId": "6f56366c-1e6e-4053-c3b3-4dc641f824ec"
      },
      "execution_count": 70,
      "outputs": [
        {
          "output_type": "stream",
          "name": "stdout",
          "text": [
            "T   --> (3, 6, 9, 12, 5, 3, 2)\n",
            "Max --> 12\n",
            "Min --> 2\n"
          ]
        }
      ]
    },
    {
      "cell_type": "code",
      "source": [
        "# Example 2\n",
        "T = (\"Ram\", \"Shyam\", \"Human\", \"Ant\")      # String Tuple\n",
        "print (\"T   -->\", T)\n",
        "print (\"Max -->\", max(T))\n",
        "print (\"Min -->\", min(T))"
      ],
      "metadata": {
        "colab": {
          "base_uri": "https://localhost:8080/"
        },
        "id": "OwAZgd0ZG6dr",
        "outputId": "a37484a8-128f-4741-d709-d33ded2e745d"
      },
      "execution_count": 71,
      "outputs": [
        {
          "output_type": "stream",
          "name": "stdout",
          "text": [
            "T   --> ('Ram', 'Shyam', 'Human', 'Ant')\n",
            "Max --> Shyam\n",
            "Min --> Ant\n"
          ]
        }
      ]
    },
    {
      "cell_type": "markdown",
      "source": [
        "Merging Tuples"
      ],
      "metadata": {
        "id": "nafduhycG-I2"
      }
    },
    {
      "cell_type": "code",
      "source": [
        "T1 = (3, 6, 9)\n",
        "T2 = (12, 5, 3, 2)\n",
        "\n",
        "print (\"T1 -->\", T1)\n",
        "print (\"T2 -->\", T2)\n",
        "\n",
        "T3 = T1 + T2\n",
        "print (\"T3 -->\", T3)\n",
        "\n",
        "T4 = T1 + T2 + T1 + T2\n",
        "print (\"T4 -->\", T4)"
      ],
      "metadata": {
        "colab": {
          "base_uri": "https://localhost:8080/"
        },
        "id": "YtTKf5iOHAPD",
        "outputId": "30f33a4e-9c21-4a20-ac08-228431e8c127"
      },
      "execution_count": 72,
      "outputs": [
        {
          "output_type": "stream",
          "name": "stdout",
          "text": [
            "T1 --> (3, 6, 9)\n",
            "T2 --> (12, 5, 3, 2)\n",
            "T3 --> (3, 6, 9, 12, 5, 3, 2)\n",
            "T4 --> (3, 6, 9, 12, 5, 3, 2, 3, 6, 9, 12, 5, 3, 2)\n"
          ]
        }
      ]
    },
    {
      "cell_type": "markdown",
      "source": [
        "Merging part of Tuples"
      ],
      "metadata": {
        "id": "_VljKkBrHCIh"
      }
    },
    {
      "cell_type": "code",
      "source": [
        "T1 = (3, 6, 9)\n",
        "T2 = (12, 5, 3, 2)\n",
        "\n",
        "print (\"T1 -->\", T1)\n",
        "print (\"T2 -->\", T2)\n",
        "\n",
        "T3 = T1[1:2] + T2[1:3]\n",
        "print (\"T3 -->\", T3)\n",
        "\n",
        "T4 = T1[:-2] + T2[:-3]\n",
        "print (\"T4 -->\", T4)"
      ],
      "metadata": {
        "colab": {
          "base_uri": "https://localhost:8080/"
        },
        "id": "QhlTBRiSHGwB",
        "outputId": "10c11913-e068-43f7-dc92-132b904c0105"
      },
      "execution_count": 73,
      "outputs": [
        {
          "output_type": "stream",
          "name": "stdout",
          "text": [
            "T1 --> (3, 6, 9)\n",
            "T2 --> (12, 5, 3, 2)\n",
            "T3 --> (6, 5, 3)\n",
            "T4 --> (3, 12)\n"
          ]
        }
      ]
    },
    {
      "cell_type": "markdown",
      "source": [
        "Searching in the tuple"
      ],
      "metadata": {
        "id": "DpRF6lSiHInU"
      }
    },
    {
      "cell_type": "code",
      "source": [
        "T = (3, 6, 9, 12, 5, 3, 2)\n",
        "print (\"T       -->\", T)\n",
        "\n",
        "print (\"6  in T -->\", 6 in T)\n",
        "print (\"10 in T -->\", 10 in T)\n",
        "print (\"12 in T -->\", 12 in T)"
      ],
      "metadata": {
        "colab": {
          "base_uri": "https://localhost:8080/"
        },
        "id": "zXbbfohEHKz7",
        "outputId": "306aea2c-d9b8-4161-d929-911489d9a760"
      },
      "execution_count": 74,
      "outputs": [
        {
          "output_type": "stream",
          "name": "stdout",
          "text": [
            "T       --> (3, 6, 9, 12, 5, 3, 2)\n",
            "6  in T --> True\n",
            "10 in T --> False\n",
            "12 in T --> True\n"
          ]
        }
      ]
    },
    {
      "cell_type": "markdown",
      "source": [
        "Adding element to Tuple (Error)"
      ],
      "metadata": {
        "id": "r6j17EjgHMyC"
      }
    },
    {
      "cell_type": "code",
      "source": [
        "T = (\"Pratham\", 'Sharma', 3.14, 3)\n",
        "print (\"T -->\", T)\n",
        "\n",
        "T[2] = 900               # Error; 'tuple' object does not support item assignment\n",
        "print (\"T -->\", T)\n",
        "\n",
        "#Tuples are unchangeable. We cannot add items to it."
      ],
      "metadata": {
        "colab": {
          "base_uri": "https://localhost:8080/",
          "height": 252
        },
        "id": "Nc2RPtc5HO3T",
        "outputId": "db494fa0-476f-4635-ff42-8766577cfc9c"
      },
      "execution_count": 75,
      "outputs": [
        {
          "output_type": "stream",
          "name": "stdout",
          "text": [
            "T --> ('Pratham', 'Sharma', 3.14, 3)\n"
          ]
        },
        {
          "output_type": "error",
          "ename": "TypeError",
          "evalue": "ignored",
          "traceback": [
            "\u001b[0;31m---------------------------------------------------------------------------\u001b[0m",
            "\u001b[0;31mTypeError\u001b[0m                                 Traceback (most recent call last)",
            "\u001b[0;32m<ipython-input-75-5dc44cadf4c4>\u001b[0m in \u001b[0;36m<cell line: 4>\u001b[0;34m()\u001b[0m\n\u001b[1;32m      2\u001b[0m \u001b[0mprint\u001b[0m \u001b[0;34m(\u001b[0m\u001b[0;34m\"T -->\"\u001b[0m\u001b[0;34m,\u001b[0m \u001b[0mT\u001b[0m\u001b[0;34m)\u001b[0m\u001b[0;34m\u001b[0m\u001b[0;34m\u001b[0m\u001b[0m\n\u001b[1;32m      3\u001b[0m \u001b[0;34m\u001b[0m\u001b[0m\n\u001b[0;32m----> 4\u001b[0;31m \u001b[0mT\u001b[0m\u001b[0;34m[\u001b[0m\u001b[0;36m2\u001b[0m\u001b[0;34m]\u001b[0m \u001b[0;34m=\u001b[0m \u001b[0;36m900\u001b[0m               \u001b[0;31m# Error; 'tuple' object does not support item assignment\u001b[0m\u001b[0;34m\u001b[0m\u001b[0;34m\u001b[0m\u001b[0m\n\u001b[0m\u001b[1;32m      5\u001b[0m \u001b[0mprint\u001b[0m \u001b[0;34m(\u001b[0m\u001b[0;34m\"T -->\"\u001b[0m\u001b[0;34m,\u001b[0m \u001b[0mT\u001b[0m\u001b[0;34m)\u001b[0m\u001b[0;34m\u001b[0m\u001b[0;34m\u001b[0m\u001b[0m\n\u001b[1;32m      6\u001b[0m \u001b[0;34m\u001b[0m\u001b[0m\n",
            "\u001b[0;31mTypeError\u001b[0m: 'tuple' object does not support item assignment"
          ]
        }
      ]
    },
    {
      "cell_type": "markdown",
      "source": [
        "Adding element to Tuple - (Jugaad)"
      ],
      "metadata": {
        "id": "rqRty_n6HQ7N"
      }
    },
    {
      "cell_type": "code",
      "source": [
        "T = (\"Pratham\", 'Sharma', 3.14, 3)\n",
        "print (\"T         -->\", T)\n",
        "\n",
        "T1 = list(T)\n",
        "T1.append(9.8)\n",
        "T = tuple(T1)\n",
        "\n",
        "print (\"After Add -->\", T)"
      ],
      "metadata": {
        "colab": {
          "base_uri": "https://localhost:8080/"
        },
        "id": "J2hOg0tWHULc",
        "outputId": "7d6ac3cc-b407-4ed1-f0b7-9fab5349d433"
      },
      "execution_count": 76,
      "outputs": [
        {
          "output_type": "stream",
          "name": "stdout",
          "text": [
            "T         --> ('Pratham', 'Sharma', 3.14, 3)\n",
            "After Add --> ('Pratham', 'Sharma', 3.14, 3, 9.8)\n"
          ]
        }
      ]
    },
    {
      "cell_type": "markdown",
      "source": [
        "Inserting element in Tuple - (Jugaad)"
      ],
      "metadata": {
        "id": "lEf1Cbh_HWvr"
      }
    },
    {
      "cell_type": "code",
      "source": [
        "T = (\"Pratham\", 'Sharma', 3.14, 3)\n",
        "print (\"T            -->\", T)\n",
        "\n",
        "T1 = list(T)\n",
        "T1.insert(2, \"Rahul\")\n",
        "T = tuple(T1)\n",
        "\n",
        "print (\"After Insert -->\", T)"
      ],
      "metadata": {
        "colab": {
          "base_uri": "https://localhost:8080/"
        },
        "id": "neyAoaTfHY5n",
        "outputId": "17182436-57a0-44ee-f214-a9a57b1eb9ef"
      },
      "execution_count": 77,
      "outputs": [
        {
          "output_type": "stream",
          "name": "stdout",
          "text": [
            "T            --> ('Pratham', 'Sharma', 3.14, 3)\n",
            "After Insert --> ('Pratham', 'Sharma', 'Rahul', 3.14, 3)\n"
          ]
        }
      ]
    },
    {
      "cell_type": "markdown",
      "source": [
        "Deleting from Tuple (Error)"
      ],
      "metadata": {
        "id": "C5uxksCjHavV"
      }
    },
    {
      "cell_type": "code",
      "source": [
        "T = (\"Pratham\", 'Sharma', 3.14, 3)\n",
        "print (\"T            -->\", T)\n",
        "\n",
        "del T[1]\n",
        "\n",
        "print (\"After Delete -->\", T)"
      ],
      "metadata": {
        "colab": {
          "base_uri": "https://localhost:8080/",
          "height": 252
        },
        "id": "-T22BGLHHczO",
        "outputId": "2bf8385a-c071-49a1-d5d4-c739254f8d02"
      },
      "execution_count": 78,
      "outputs": [
        {
          "output_type": "stream",
          "name": "stdout",
          "text": [
            "T            --> ('Pratham', 'Sharma', 3.14, 3)\n"
          ]
        },
        {
          "output_type": "error",
          "ename": "TypeError",
          "evalue": "ignored",
          "traceback": [
            "\u001b[0;31m---------------------------------------------------------------------------\u001b[0m",
            "\u001b[0;31mTypeError\u001b[0m                                 Traceback (most recent call last)",
            "\u001b[0;32m<ipython-input-78-0baff4d8a5c8>\u001b[0m in \u001b[0;36m<cell line: 4>\u001b[0;34m()\u001b[0m\n\u001b[1;32m      2\u001b[0m \u001b[0mprint\u001b[0m \u001b[0;34m(\u001b[0m\u001b[0;34m\"T            -->\"\u001b[0m\u001b[0;34m,\u001b[0m \u001b[0mT\u001b[0m\u001b[0;34m)\u001b[0m\u001b[0;34m\u001b[0m\u001b[0;34m\u001b[0m\u001b[0m\n\u001b[1;32m      3\u001b[0m \u001b[0;34m\u001b[0m\u001b[0m\n\u001b[0;32m----> 4\u001b[0;31m \u001b[0;32mdel\u001b[0m \u001b[0mT\u001b[0m\u001b[0;34m[\u001b[0m\u001b[0;36m1\u001b[0m\u001b[0;34m]\u001b[0m\u001b[0;34m\u001b[0m\u001b[0;34m\u001b[0m\u001b[0m\n\u001b[0m\u001b[1;32m      5\u001b[0m \u001b[0;34m\u001b[0m\u001b[0m\n\u001b[1;32m      6\u001b[0m \u001b[0mprint\u001b[0m \u001b[0;34m(\u001b[0m\u001b[0;34m\"After Delete -->\"\u001b[0m\u001b[0;34m,\u001b[0m \u001b[0mT\u001b[0m\u001b[0;34m)\u001b[0m\u001b[0;34m\u001b[0m\u001b[0;34m\u001b[0m\u001b[0m\n",
            "\u001b[0;31mTypeError\u001b[0m: 'tuple' object doesn't support item deletion"
          ]
        }
      ]
    },
    {
      "cell_type": "markdown",
      "source": [
        "Deleting from Tuple - (Jugaad)"
      ],
      "metadata": {
        "id": "No8Bk5A2HetY"
      }
    },
    {
      "cell_type": "code",
      "source": [
        "T = (\"Pratham\", 'Sharma', 3.14, 3)\n",
        "print (\"T            -->\", T)\n",
        "\n",
        "T1 = list(T)\n",
        "del T1[1]\n",
        "T = tuple(T1)\n",
        "\n",
        "print (\"After Delete -->\", T)"
      ],
      "metadata": {
        "colab": {
          "base_uri": "https://localhost:8080/"
        },
        "id": "8dOwCa7zHgqI",
        "outputId": "b14bc633-82b3-4769-852c-2063eb654544"
      },
      "execution_count": 79,
      "outputs": [
        {
          "output_type": "stream",
          "name": "stdout",
          "text": [
            "T            --> ('Pratham', 'Sharma', 3.14, 3)\n",
            "After Delete --> ('Pratham', 3.14, 3)\n"
          ]
        }
      ]
    },
    {
      "cell_type": "markdown",
      "source": [
        "Data Structure 4 - Set"
      ],
      "metadata": {
        "id": "voSDkiZpHi6G"
      }
    },
    {
      "cell_type": "markdown",
      "source": [
        "Declare Set"
      ],
      "metadata": {
        "id": "REdLmYQqHkpd"
      }
    },
    {
      "cell_type": "code",
      "source": [
        "s = set(['A', 'B', 'E', 'F','E', 'F' ])\n",
        "print (\"Original set           --> \", s)\n",
        "print (\"Num of elements in set --> \", len(s))"
      ],
      "metadata": {
        "colab": {
          "base_uri": "https://localhost:8080/"
        },
        "id": "m0chZmolHnDF",
        "outputId": "4174f924-5102-4196-e2ca-5a2f5eea288a"
      },
      "execution_count": 80,
      "outputs": [
        {
          "output_type": "stream",
          "name": "stdout",
          "text": [
            "Original set           -->  {'F', 'E', 'B', 'A'}\n",
            "Num of elements in set -->  4\n"
          ]
        }
      ]
    },
    {
      "cell_type": "markdown",
      "source": [
        "Opertions on Sets"
      ],
      "metadata": {
        "id": "fCm7KIkhHpMv"
      }
    },
    {
      "cell_type": "code",
      "source": [
        "a = set(['A', 'B', 'E', 'F' ])\n",
        "b = set([\"A\", \"C\", \"D\", \"E\"])\n",
        "print (\"Original set a      --> \", a)\n",
        "print (\"Original set b      --> \", b)\n",
        "print (\"Union of a and b    --> \", a.union(b))\n",
        "print (\"Intersection of a,b --> \", a.intersection(b))\n",
        "print (\"Difference a - b    --> \", a - b)\n",
        "print (\"Difference a - b    --> \", a.difference(b))\n",
        "print (\"Difference b - a    --> \", b - a)\n",
        "print (\"Difference b - a    --> \", b.difference(a))\n",
        "print (\"Symetric Diff a - b --> \", a.symmetric_difference(b))\n",
        "print (\"Symetric Diff b - a --> \", b.symmetric_difference(a))"
      ],
      "metadata": {
        "colab": {
          "base_uri": "https://localhost:8080/"
        },
        "id": "-vFBAHOiHrYV",
        "outputId": "8c2a2076-c127-4260-c1df-367ef489ec36"
      },
      "execution_count": 81,
      "outputs": [
        {
          "output_type": "stream",
          "name": "stdout",
          "text": [
            "Original set a      -->  {'F', 'E', 'B', 'A'}\n",
            "Original set b      -->  {'E', 'C', 'D', 'A'}\n",
            "Union of a and b    -->  {'D', 'A', 'F', 'B', 'E', 'C'}\n",
            "Intersection of a,b -->  {'E', 'A'}\n",
            "Difference a - b    -->  {'F', 'B'}\n",
            "Difference a - b    -->  {'F', 'B'}\n",
            "Difference b - a    -->  {'D', 'C'}\n",
            "Difference b - a    -->  {'D', 'C'}\n",
            "Symetric Diff a - b -->  {'D', 'F', 'B', 'C'}\n",
            "Symetric Diff b - a -->  {'D', 'F', 'B', 'C'}\n"
          ]
        }
      ]
    },
    {
      "cell_type": "markdown",
      "source": [
        "Add, delete, pop element from set"
      ],
      "metadata": {
        "id": "0-lYalAnHtSa"
      }
    },
    {
      "cell_type": "code",
      "source": [
        "a = set(['A', 'B', 'E', 'F' ])\n",
        "print (\"Original set a       --> \", a)\n",
        "a.add(\"D\")\n",
        "print (\"Set After Adding (D) --> \", a)\n",
        "a.add(\"D\")\n",
        "print (\"Set After Adding (D) --> \", a)\n",
        "a.remove(\"D\")\n",
        "print (\"Set After Deleting(D)--> \", a)\n",
        "a.pop()\n",
        "print (\"Set After pop        --> \", a)\n",
        "a.pop()\n",
        "print (\"Set After pop        --> \", a)"
      ],
      "metadata": {
        "colab": {
          "base_uri": "https://localhost:8080/"
        },
        "id": "crGIOOUtHw5Z",
        "outputId": "d3734733-0366-4c25-8821-18a5cd227728"
      },
      "execution_count": 82,
      "outputs": [
        {
          "output_type": "stream",
          "name": "stdout",
          "text": [
            "Original set a       -->  {'F', 'E', 'B', 'A'}\n",
            "Set After Adding (D) -->  {'D', 'A', 'F', 'B', 'E'}\n",
            "Set After Adding (D) -->  {'D', 'A', 'F', 'B', 'E'}\n",
            "Set After Deleting(D)-->  {'A', 'F', 'B', 'E'}\n",
            "Set After pop        -->  {'F', 'B', 'E'}\n",
            "Set After pop        -->  {'B', 'E'}\n"
          ]
        }
      ]
    },
    {
      "cell_type": "markdown",
      "source": [
        "Command Line Argument"
      ],
      "metadata": {
        "id": "kCpsABX6Hytt"
      }
    },
    {
      "cell_type": "markdown",
      "source": [
        "Add two numbers given at cmd line"
      ],
      "metadata": {
        "id": "aDKc_bMqH074"
      }
    },
    {
      "cell_type": "code",
      "source": [
        "import sys\n",
        "print (sys.argv)\n",
        "a = int(sys.argv[1]) \t# First Number\n",
        "b = int(sys.argv[2])\t# Second Number\n",
        "c = a + b\n",
        "print (a, \" + \", b, \" --> \", c)"
      ],
      "metadata": {
        "colab": {
          "base_uri": "https://localhost:8080/",
          "height": 252
        },
        "id": "ZuTcjY2IH3LE",
        "outputId": "c7f8ef9a-5772-4429-92a1-59568b2fd30a"
      },
      "execution_count": 83,
      "outputs": [
        {
          "output_type": "stream",
          "name": "stdout",
          "text": [
            "['/usr/local/lib/python3.10/dist-packages/ipykernel_launcher.py', '-f', '/root/.local/share/jupyter/runtime/kernel-b9b03388-2497-43c7-ab93-8af687453f4a.json']\n"
          ]
        },
        {
          "output_type": "error",
          "ename": "ValueError",
          "evalue": "ignored",
          "traceback": [
            "\u001b[0;31m---------------------------------------------------------------------------\u001b[0m",
            "\u001b[0;31mValueError\u001b[0m                                Traceback (most recent call last)",
            "\u001b[0;32m<ipython-input-83-a3d67294dc12>\u001b[0m in \u001b[0;36m<cell line: 3>\u001b[0;34m()\u001b[0m\n\u001b[1;32m      1\u001b[0m \u001b[0;32mimport\u001b[0m \u001b[0msys\u001b[0m\u001b[0;34m\u001b[0m\u001b[0;34m\u001b[0m\u001b[0m\n\u001b[1;32m      2\u001b[0m \u001b[0mprint\u001b[0m \u001b[0;34m(\u001b[0m\u001b[0msys\u001b[0m\u001b[0;34m.\u001b[0m\u001b[0margv\u001b[0m\u001b[0;34m)\u001b[0m\u001b[0;34m\u001b[0m\u001b[0;34m\u001b[0m\u001b[0m\n\u001b[0;32m----> 3\u001b[0;31m \u001b[0ma\u001b[0m \u001b[0;34m=\u001b[0m \u001b[0mint\u001b[0m\u001b[0;34m(\u001b[0m\u001b[0msys\u001b[0m\u001b[0;34m.\u001b[0m\u001b[0margv\u001b[0m\u001b[0;34m[\u001b[0m\u001b[0;36m1\u001b[0m\u001b[0;34m]\u001b[0m\u001b[0;34m)\u001b[0m    \u001b[0;31m# First Number\u001b[0m\u001b[0;34m\u001b[0m\u001b[0;34m\u001b[0m\u001b[0m\n\u001b[0m\u001b[1;32m      4\u001b[0m \u001b[0mb\u001b[0m \u001b[0;34m=\u001b[0m \u001b[0mint\u001b[0m\u001b[0;34m(\u001b[0m\u001b[0msys\u001b[0m\u001b[0;34m.\u001b[0m\u001b[0margv\u001b[0m\u001b[0;34m[\u001b[0m\u001b[0;36m2\u001b[0m\u001b[0;34m]\u001b[0m\u001b[0;34m)\u001b[0m    \u001b[0;31m# Second Number\u001b[0m\u001b[0;34m\u001b[0m\u001b[0;34m\u001b[0m\u001b[0m\n\u001b[1;32m      5\u001b[0m \u001b[0mc\u001b[0m \u001b[0;34m=\u001b[0m \u001b[0ma\u001b[0m \u001b[0;34m+\u001b[0m \u001b[0mb\u001b[0m\u001b[0;34m\u001b[0m\u001b[0;34m\u001b[0m\u001b[0m\n",
            "\u001b[0;31mValueError\u001b[0m: invalid literal for int() with base 10: '-f'"
          ]
        }
      ]
    },
    {
      "cell_type": "markdown",
      "source": [
        "Concatinate two strings given at cmd line"
      ],
      "metadata": {
        "id": "pgrWzb8EH5Hq"
      }
    },
    {
      "cell_type": "code",
      "source": [
        "import sys\n",
        "print (sys.argv)\n",
        "s = sys.argv[1] + \" \" + sys.argv[2]\n",
        "print (sys.argv[1], \" + \", sys.argv[2], \" --> \", s)"
      ],
      "metadata": {
        "colab": {
          "base_uri": "https://localhost:8080/"
        },
        "id": "wl6GfznfH7Tw",
        "outputId": "4f512109-a659-479e-8e77-7ea6ac72efe4"
      },
      "execution_count": 84,
      "outputs": [
        {
          "output_type": "stream",
          "name": "stdout",
          "text": [
            "['/usr/local/lib/python3.10/dist-packages/ipykernel_launcher.py', '-f', '/root/.local/share/jupyter/runtime/kernel-b9b03388-2497-43c7-ab93-8af687453f4a.json']\n",
            "-f  +  /root/.local/share/jupyter/runtime/kernel-b9b03388-2497-43c7-ab93-8af687453f4a.json  -->  -f /root/.local/share/jupyter/runtime/kernel-b9b03388-2497-43c7-ab93-8af687453f4a.json\n"
          ]
        }
      ]
    },
    {
      "cell_type": "markdown",
      "source": [
        "Add all the numbers given at cmd line"
      ],
      "metadata": {
        "id": "t6_dKSvuH9Pm"
      }
    },
    {
      "cell_type": "code",
      "source": [
        "import sys\n",
        "print (sys.argv)\n",
        "sum=0\n",
        "for s in sys.argv[1:]:\n",
        "\tsum += int(s)\n",
        "\n",
        "print (\"Sum is --> \", sum)"
      ],
      "metadata": {
        "colab": {
          "base_uri": "https://localhost:8080/",
          "height": 252
        },
        "id": "1ftbkUBvH_JO",
        "outputId": "6b5f676d-7cf4-4ead-8980-6356f0ac0215"
      },
      "execution_count": 85,
      "outputs": [
        {
          "output_type": "stream",
          "name": "stdout",
          "text": [
            "['/usr/local/lib/python3.10/dist-packages/ipykernel_launcher.py', '-f', '/root/.local/share/jupyter/runtime/kernel-b9b03388-2497-43c7-ab93-8af687453f4a.json']\n"
          ]
        },
        {
          "output_type": "error",
          "ename": "ValueError",
          "evalue": "ignored",
          "traceback": [
            "\u001b[0;31m---------------------------------------------------------------------------\u001b[0m",
            "\u001b[0;31mValueError\u001b[0m                                Traceback (most recent call last)",
            "\u001b[0;32m<ipython-input-85-87063e0e9afe>\u001b[0m in \u001b[0;36m<cell line: 4>\u001b[0;34m()\u001b[0m\n\u001b[1;32m      3\u001b[0m \u001b[0msum\u001b[0m\u001b[0;34m=\u001b[0m\u001b[0;36m0\u001b[0m\u001b[0;34m\u001b[0m\u001b[0;34m\u001b[0m\u001b[0m\n\u001b[1;32m      4\u001b[0m \u001b[0;32mfor\u001b[0m \u001b[0ms\u001b[0m \u001b[0;32min\u001b[0m \u001b[0msys\u001b[0m\u001b[0;34m.\u001b[0m\u001b[0margv\u001b[0m\u001b[0;34m[\u001b[0m\u001b[0;36m1\u001b[0m\u001b[0;34m:\u001b[0m\u001b[0;34m]\u001b[0m\u001b[0;34m:\u001b[0m\u001b[0;34m\u001b[0m\u001b[0;34m\u001b[0m\u001b[0m\n\u001b[0;32m----> 5\u001b[0;31m         \u001b[0msum\u001b[0m \u001b[0;34m+=\u001b[0m \u001b[0mint\u001b[0m\u001b[0;34m(\u001b[0m\u001b[0ms\u001b[0m\u001b[0;34m)\u001b[0m\u001b[0;34m\u001b[0m\u001b[0;34m\u001b[0m\u001b[0m\n\u001b[0m\u001b[1;32m      6\u001b[0m \u001b[0;34m\u001b[0m\u001b[0m\n\u001b[1;32m      7\u001b[0m \u001b[0mprint\u001b[0m \u001b[0;34m(\u001b[0m\u001b[0;34m\"Sum is --> \"\u001b[0m\u001b[0;34m,\u001b[0m \u001b[0msum\u001b[0m\u001b[0;34m)\u001b[0m\u001b[0;34m\u001b[0m\u001b[0;34m\u001b[0m\u001b[0m\n",
            "\u001b[0;31mValueError\u001b[0m: invalid literal for int() with base 10: '-f'"
          ]
        }
      ]
    },
    {
      "cell_type": "markdown",
      "source": [
        "File Handling"
      ],
      "metadata": {
        "id": "ZTwX7BmBIBEE"
      }
    },
    {
      "cell_type": "markdown",
      "source": [
        "Writing 1 to 10 in file"
      ],
      "metadata": {
        "id": "MJ1WvAt5ID2K"
      }
    },
    {
      "cell_type": "code",
      "source": [
        "fp=open('result.txt','w')\t# Open the file in writing mode\n",
        "for  i in range(1,11):\n",
        "\tfp.write(str(i) + \"\\n\")\t# Writing to the file line by line\n",
        "fp.close()\n",
        "\n",
        "print (\"Writing done !! \\nOpen result.txt to view the content\")"
      ],
      "metadata": {
        "colab": {
          "base_uri": "https://localhost:8080/"
        },
        "id": "JPwcnP7xIF18",
        "outputId": "af088d63-dd95-41cc-baae-486e0d99aed4"
      },
      "execution_count": 86,
      "outputs": [
        {
          "output_type": "stream",
          "name": "stdout",
          "text": [
            "Writing done !! \n",
            "Open result.txt to view the content\n"
          ]
        }
      ]
    },
    {
      "cell_type": "markdown",
      "source": [
        "Read a file and print its content"
      ],
      "metadata": {
        "id": "0v9BHx4CIHlH"
      }
    },
    {
      "cell_type": "code",
      "source": [
        "fp=open('result.txt')\t\t# Open the file in reading mode\n",
        "for line in fp: \t\t    # print line by line\n",
        "\tprint (line.strip())\n",
        "fp.close()"
      ],
      "metadata": {
        "colab": {
          "base_uri": "https://localhost:8080/"
        },
        "id": "erg-aWbeIKSx",
        "outputId": "82bbe7cf-cc99-47e7-cf72-c1efc52c960e"
      },
      "execution_count": 87,
      "outputs": [
        {
          "output_type": "stream",
          "name": "stdout",
          "text": [
            "1\n",
            "2\n",
            "3\n",
            "4\n",
            "5\n",
            "6\n",
            "7\n",
            "8\n",
            "9\n",
            "10\n"
          ]
        }
      ]
    },
    {
      "cell_type": "markdown",
      "source": [
        "Read from one file, Convert it to upper case and write to other file"
      ],
      "metadata": {
        "id": "ze_KdR5vIMVz"
      }
    },
    {
      "cell_type": "code",
      "source": [
        "Readfp=open('result.txt')\t\t# Open the file in reading mode\n",
        "Writefp=open('abc.txt','w')\t# Open the file in writing mode\n",
        "for line in Readfp: \n",
        "\tWritefp.write(line.upper())\n",
        "\t\n",
        "Writefp.close()\n",
        "Readfp.close()\n",
        "\n",
        "print (\"Writing done !! \\nOpen result.txt to view the content\")"
      ],
      "metadata": {
        "colab": {
          "base_uri": "https://localhost:8080/"
        },
        "id": "gaTTAed7IO4J",
        "outputId": "5c879d47-2ad2-47be-f571-f5e40d61003c"
      },
      "execution_count": 88,
      "outputs": [
        {
          "output_type": "stream",
          "name": "stdout",
          "text": [
            "Writing done !! \n",
            "Open result.txt to view the content\n"
          ]
        }
      ]
    },
    {
      "cell_type": "code",
      "source": [],
      "metadata": {
        "id": "t6nYY92qKp6l"
      },
      "execution_count": null,
      "outputs": []
    }
  ]
}