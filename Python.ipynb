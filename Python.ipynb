{
  "nbformat": 4,
  "nbformat_minor": 0,
  "metadata": {
    "colab": {
      "provenance": [],
      "authorship_tag": "ABX9TyMsJh69V7jh7/7YLFQmyJof",
      "include_colab_link": true
    },
    "kernelspec": {
      "name": "python3",
      "display_name": "Python 3"
    },
    "language_info": {
      "name": "python"
    }
  },
  "cells": [
    {
      "cell_type": "markdown",
      "metadata": {
        "id": "view-in-github",
        "colab_type": "text"
      },
      "source": [
        "<a href=\"https://colab.research.google.com/github/kritisinghh/Python-Basics/blob/main/Python.ipynb\" target=\"_parent\"><img src=\"https://colab.research.google.com/assets/colab-badge.svg\" alt=\"Open In Colab\"/></a>"
      ]
    },
    {
      "cell_type": "markdown",
      "source": [
        "Hello World"
      ],
      "metadata": {
        "id": "5BCiRNCGUHYT"
      }
    },
    {
      "cell_type": "code",
      "source": [
        "print (\"Hello World\")"
      ],
      "metadata": {
        "colab": {
          "base_uri": "https://localhost:8080/"
        },
        "id": "uqUjcwThUKH9",
        "outputId": "b7df591b-ac6b-4c59-e244-c8d093a38ba5"
      },
      "execution_count": 1,
      "outputs": [
        {
          "output_type": "stream",
          "name": "stdout",
          "text": [
            "Hello World\n"
          ]
        }
      ]
    },
    {
      "cell_type": "markdown",
      "source": [
        "Add numbers and Concatinate strings\n"
      ],
      "metadata": {
        "id": "hNemZBmqUS3E"
      }
    },
    {
      "cell_type": "code",
      "source": [
        "a = 10\t\t\t\t\n",
        "b = 220\n",
        "c = a + b       # Add two numbers\n",
        "print (a, \" + \", b, \" --> \", c)"
      ],
      "metadata": {
        "colab": {
          "base_uri": "https://localhost:8080/"
        },
        "id": "uuqmvcMkUV-I",
        "outputId": "dfdb68bb-7a57-4583-d4c0-6ffb1013d41d"
      },
      "execution_count": 2,
      "outputs": [
        {
          "output_type": "stream",
          "name": "stdout",
          "text": [
            "10  +  220  -->  230\n"
          ]
        }
      ]
    },
    {
      "cell_type": "markdown",
      "source": [
        "Concatinate two strings"
      ],
      "metadata": {
        "id": "NhlMyNn8bqO-"
      }
    },
    {
      "cell_type": "code",
      "source": [
        "a = \"Bhagat\"\n",
        "b = \" Singh\"\n",
        "c = a + b\t\t# Concatinate two strings\n",
        "print (a, \" + \", b, \" --> \", c)"
      ],
      "metadata": {
        "colab": {
          "base_uri": "https://localhost:8080/"
        },
        "id": "KFRe1MM5bsYD",
        "outputId": "9eeb374b-21b4-4b5d-f1f7-e7222d247b0c"
      },
      "execution_count": 3,
      "outputs": [
        {
          "output_type": "stream",
          "name": "stdout",
          "text": [
            "Bhagat  +   Singh  -->  Bhagat Singh\n"
          ]
        }
      ]
    },
    {
      "cell_type": "markdown",
      "source": [
        " Concatinate string with number"
      ],
      "metadata": {
        "id": "0KvK0lrvbvAO"
      }
    },
    {
      "cell_type": "code",
      "source": [
        "a = \"Bhagat\"\n",
        "b = 100\n",
        "c = a + str(b)\t\t# Concatinate string with number\n",
        "print (a, \" + \", b, \" --> \", c)"
      ],
      "metadata": {
        "colab": {
          "base_uri": "https://localhost:8080/"
        },
        "id": "B0Vokhybbxnm",
        "outputId": "0804f075-b121-41ff-ff76-bbeab94e43f5"
      },
      "execution_count": 4,
      "outputs": [
        {
          "output_type": "stream",
          "name": "stdout",
          "text": [
            "Bhagat  +  100  -->  Bhagat100\n"
          ]
        }
      ]
    },
    {
      "cell_type": "markdown",
      "source": [
        "Input from user"
      ],
      "metadata": {
        "id": "2Kop78yzb1GB"
      }
    },
    {
      "cell_type": "markdown",
      "source": [
        "Input two strings from user and concatinate them"
      ],
      "metadata": {
        "id": "cdEOhoRsb6AN"
      }
    },
    {
      "cell_type": "code",
      "source": [
        "a = input(\"Enter First String: \")\n",
        "b = input(\"Enter Second String: \")\n",
        "c = a + b\t\t# concatinate two strings\n",
        "print  (a, \" + \", b, \"      --> \", c)"
      ],
      "metadata": {
        "id": "otpFEMcDb9PG"
      },
      "execution_count": null,
      "outputs": []
    },
    {
      "cell_type": "markdown",
      "source": [
        "Input two numbers from user and add them"
      ],
      "metadata": {
        "id": "bkaYTWEgcBEt"
      }
    },
    {
      "cell_type": "code",
      "source": [
        "a = int(input(\"Enter First No: \"))\n",
        "b = int(input(\"Enter Second No: \"))\n",
        "c = a + b\n",
        "print (a, \" + \", b, \" --> \", c)"
      ],
      "metadata": {
        "id": "DBRcUH8KcDPx"
      },
      "execution_count": null,
      "outputs": []
    },
    {
      "cell_type": "markdown",
      "source": [
        "Loop"
      ],
      "metadata": {
        "id": "tSPgETOFcFT3"
      }
    },
    {
      "cell_type": "markdown",
      "source": [
        "While Loop"
      ],
      "metadata": {
        "id": "KRV9ecgUcHbN"
      }
    },
    {
      "cell_type": "code",
      "source": [
        "i=1\n",
        "while i <= 10:\n",
        "\tprint (i)\n",
        "\ti = i+1"
      ],
      "metadata": {
        "id": "bnCNZTkicJLH"
      },
      "execution_count": null,
      "outputs": []
    },
    {
      "cell_type": "markdown",
      "source": [
        "Range Function"
      ],
      "metadata": {
        "id": "2CjNHz6jeUna"
      }
    },
    {
      "cell_type": "code",
      "source": [
        "print (\"range(10)        --> \", list(range(10)))\n",
        "print (\"range(10,20)     --> \", list(range(10,20)))\n",
        "print (\"range(0,20,2)    --> \", list(range(2,20,2)))\n",
        "print (\"range(-10,-20,2) --> \", list(range(-10,-20,2)))\n",
        "print (\"range(-10,-20,-2)--> \", list(range(-10,-20,-2)))"
      ],
      "metadata": {
        "id": "ifJ8Ze1UeXTq"
      },
      "execution_count": null,
      "outputs": []
    },
    {
      "cell_type": "markdown",
      "source": [
        "For loop"
      ],
      "metadata": {
        "id": "r_tj-PwQeaQc"
      }
    },
    {
      "cell_type": "markdown",
      "source": [
        "For loop - Version 1"
      ],
      "metadata": {
        "id": "M_mruRc6ec_I"
      }
    },
    {
      "cell_type": "code",
      "source": [
        "for i in range(0,10):\n",
        "\tprint (i)"
      ],
      "metadata": {
        "id": "UFWrPE9wefFC"
      },
      "execution_count": null,
      "outputs": []
    },
    {
      "cell_type": "markdown",
      "source": [
        "For loop - Version 2"
      ],
      "metadata": {
        "id": "bBbr2zChehq0"
      }
    },
    {
      "cell_type": "code",
      "source": [
        "for i in range(0,20,2):\n",
        "\tprint (i)"
      ],
      "metadata": {
        "id": "7nJZHjy7ekVu"
      },
      "execution_count": null,
      "outputs": []
    },
    {
      "cell_type": "markdown",
      "source": [
        "For loop - Version 3"
      ],
      "metadata": {
        "id": "Qg2Fi3y0emh3"
      }
    },
    {
      "cell_type": "code",
      "source": [
        "for i in range(0,-10,-1):\n",
        "\tprint (i)"
      ],
      "metadata": {
        "id": "tq8CAUTDeolw"
      },
      "execution_count": null,
      "outputs": []
    },
    {
      "cell_type": "markdown",
      "source": [
        "Print table of 5"
      ],
      "metadata": {
        "id": "g2Xifhaqes8l"
      }
    },
    {
      "cell_type": "code",
      "source": [
        "for i in range(1,11):\n",
        "\tprint (5,\" * \", i , \" = \", i * 5)"
      ],
      "metadata": {
        "id": "iAyr3UQ2evQq"
      },
      "execution_count": null,
      "outputs": []
    },
    {
      "cell_type": "markdown",
      "source": [
        "Sum all numbers from 1 to 10"
      ],
      "metadata": {
        "id": "KJfnJxkzex2u"
      }
    },
    {
      "cell_type": "markdown",
      "source": [
        "Version 1"
      ],
      "metadata": {
        "id": "u9H-gpCJe0xa"
      }
    },
    {
      "cell_type": "code",
      "source": [
        "s=0\n",
        "for i in range(1,11):\n",
        "\ts=s+i\n",
        "print (\"Sum is --> \",s)"
      ],
      "metadata": {
        "id": "93mk058Te2pc"
      },
      "execution_count": null,
      "outputs": []
    },
    {
      "cell_type": "markdown",
      "source": [
        "Version 2"
      ],
      "metadata": {
        "id": "ov4_wpBBe5KR"
      }
    },
    {
      "cell_type": "code",
      "source": [
        "print (\"Sum is --> \", sum(range(1,11)))"
      ],
      "metadata": {
        "id": "pbI5IhZJe75N"
      },
      "execution_count": null,
      "outputs": []
    },
    {
      "cell_type": "markdown",
      "source": [
        "If-Else - Conditional Checking"
      ],
      "metadata": {
        "id": "klLw0sfEe-VY"
      }
    },
    {
      "cell_type": "markdown",
      "source": [
        "Input two numbers from user and compare them"
      ],
      "metadata": {
        "id": "A4eDER9wfA5s"
      }
    },
    {
      "cell_type": "code",
      "source": [
        "a = int(input(\"Enter First No: \"))\n",
        "b = int(input(\"Enter Second No: \"))\n",
        "if  a > b: \n",
        "\tprint (a,\" > \",b)\n",
        "else:\n",
        "\tprint (a,\" < \",b)"
      ],
      "metadata": {
        "id": "AIbxJgDRfEWd"
      },
      "execution_count": null,
      "outputs": []
    },
    {
      "cell_type": "markdown",
      "source": [
        "Check weather a number is odd or even"
      ],
      "metadata": {
        "id": "PM2KbH21fGR6"
      }
    },
    {
      "cell_type": "code",
      "source": [
        "n = int(input(\"Enter a No: \"))\n",
        "if  n % 2 == 0: \n",
        "\tprint (n,\" is even\")\n",
        "else:\n",
        "\tprint (n,\" is odd\")\n"
      ],
      "metadata": {
        "id": "rjpPEjKkfIsA"
      },
      "execution_count": null,
      "outputs": []
    },
    {
      "cell_type": "markdown",
      "source": [
        "Check weather a number is prime of not\n"
      ],
      "metadata": {
        "id": "bLvaTEN9fNDm"
      }
    },
    {
      "cell_type": "code",
      "source": [
        "n = int(input(\"Enter a No: \"))\n",
        "f=0\n",
        "for i in range(2, n//2 + 1):\n",
        "\tif  n % i == 0: \n",
        "\t\tf=1\n",
        "\t\tbreak\n",
        "\n",
        "if f==0:\n",
        "\tprint (\"Prime\")\n",
        "else:\n",
        "\tprint (\"Not Prime\")"
      ],
      "metadata": {
        "id": "ohm0E6mEfQeA"
      },
      "execution_count": null,
      "outputs": []
    },
    {
      "cell_type": "markdown",
      "source": [
        "Conditional Checking - Compare strings"
      ],
      "metadata": {
        "id": "DgjpLZkefSti"
      }
    },
    {
      "cell_type": "code",
      "source": [
        "a = input(\"Enter First String : \")\n",
        "b = input(\"Enter Second String: \")\n",
        "\n",
        "if a == b: \n",
        "\tprint (\"a == b\")\n",
        "elif a >= b: \n",
        "\tprint (\"a > b\")\n",
        "else:\n",
        "\tprint (\"a < b\")"
      ],
      "metadata": {
        "id": "skW9jsHGfX5L"
      },
      "execution_count": null,
      "outputs": []
    },
    {
      "cell_type": "markdown",
      "source": [
        "Functions"
      ],
      "metadata": {
        "id": "gpR0FhNmfaAt"
      }
    },
    {
      "cell_type": "markdown",
      "source": [
        "Add two numbers"
      ],
      "metadata": {
        "id": "W3UcislAfbrd"
      }
    },
    {
      "cell_type": "code",
      "source": [
        "def Add(a,b):\n",
        "\tc=a+b\n",
        "\treturn c\n",
        "\n",
        "print (\"Add(10,20) -->\", Add(10,20))\n",
        "print (\"Add(20,50) -->\", Add(20,50)) \n",
        "print (\"Add(80,200) -->\", Add(80,200)) "
      ],
      "metadata": {
        "id": "uH0z-ufXfeEB"
      },
      "execution_count": null,
      "outputs": []
    },
    {
      "cell_type": "markdown",
      "source": [
        "Prime number"
      ],
      "metadata": {
        "id": "63_nM8AsffxU"
      }
    },
    {
      "cell_type": "code",
      "source": [
        "def IsPrime(n):\n",
        "\tfor i in range(2, n//2 + 1):\n",
        "\t\tif n%i==0:\n",
        "\t\t\treturn 0\n",
        "\treturn 1\n",
        "\n",
        "print (\"IsPrime(20)  --> \", IsPrime(20))\n",
        "print (\"IsPrime(23)  --> \", IsPrime(23))\n",
        "print (\"IsPrime(200) --> \", IsPrime(200))\n",
        "print (\"IsPrime(37)  --> \", IsPrime(37))"
      ],
      "metadata": {
        "id": "QZMLOoOgfiRa"
      },
      "execution_count": null,
      "outputs": []
    },
    {
      "cell_type": "markdown",
      "source": [
        "Add 1 to n"
      ],
      "metadata": {
        "id": "7lnm4djlfkKC"
      }
    },
    {
      "cell_type": "code",
      "source": [
        "def AddN(n):\n",
        "\ts= sum(range(n+1))\n",
        "\treturn s\n",
        "\n",
        "print (\"AddN(10)  --> \", AddN(10))\n",
        "print (\"AddN(20)  --> \", AddN(20))\n",
        "print (\"AddN(50)  --> \", AddN(50))\n",
        "print (\"AddN(200) --> \", AddN(200))"
      ],
      "metadata": {
        "id": "G2K0U5skfmZx"
      },
      "execution_count": null,
      "outputs": []
    },
    {
      "cell_type": "markdown",
      "source": [
        "Math library"
      ],
      "metadata": {
        "id": "gK6MQgOTfpgm"
      }
    },
    {
      "cell_type": "code",
      "source": [
        "import math as m\n",
        "print (\"exp(-200)    --> \", m.exp(-200))  # Exponential function\n",
        "print (\"log(100,2)   --> \", m.log(100,2)) # Log\n",
        "print (\"log(100,10)  --> \", m.log(100,10))# Log\n",
        "print (\"log10(100)   --> \", m.log10(100)) # Log 10\n",
        "print (\"m.cos(30)    --> \", m.cos(30))    # cos\n",
        "print (\"m.sin(30)    --> \", m.sin(30))    # sin\n",
        "print (\"m.tan(30)    --> \", m.tan(30))    # tan\n",
        "print (\"m.sqrt(324)  --> \", m.sqrt(324))\n",
        "print (\"m.ceil(89.9) --> \", m.ceil(89.9))\n",
        "print (\"m.floor(89.9)--> \", m.floor(89.9))"
      ],
      "metadata": {
        "id": "gc8QUsgWfqC5"
      },
      "execution_count": null,
      "outputs": []
    },
    {
      "cell_type": "markdown",
      "source": [
        "Strings"
      ],
      "metadata": {
        "id": "2h46_PqNfte3"
      }
    },
    {
      "cell_type": "markdown",
      "source": [
        "Indexing in string"
      ],
      "metadata": {
        "id": "F0CLIID0fvIQ"
      }
    },
    {
      "cell_type": "code",
      "source": [
        "var = 'Hello World!'\n",
        "print (\"var      --> \", var)\n",
        "print (\"var[0]   --> \", var[0])\n",
        "print (\"var[1:5] --> \", var[1:5])\n",
        "print (\"var[:-5] --> \", var[:-5])"
      ],
      "metadata": {
        "id": "ZKjB4USRfyPq"
      },
      "execution_count": null,
      "outputs": []
    },
    {
      "cell_type": "markdown",
      "source": [
        "String length, upper, lower"
      ],
      "metadata": {
        "id": "M8vomHZZf62w"
      }
    },
    {
      "cell_type": "code",
      "source": [
        "var = 'Hello World!'\n",
        "print (\"String --> \", var)\n",
        "print (\"Length --> : \", len(var))\n",
        "print (\"Upper  --> : \", var.upper())\n",
        "print (\"Lower  --> : \", var.lower())"
      ],
      "metadata": {
        "id": "Y9xMkkUSf83b"
      },
      "execution_count": null,
      "outputs": []
    },
    {
      "cell_type": "markdown",
      "source": [
        "String formatting"
      ],
      "metadata": {
        "id": "KfZTkphzgAU4"
      }
    },
    {
      "cell_type": "code",
      "source": [
        "name=input(\"Enter your name: \")\n",
        "age=int(input(\"Enter your age : \"))\n",
        "price=float(input(\"Enter the book price: \"))\n",
        "s=\"\\nYour name is %s, age is %d and book price is %f\" %(name.upper(),age,price)\n",
        "print (s)"
      ],
      "metadata": {
        "id": "lfEywNFcgCm1"
      },
      "execution_count": null,
      "outputs": []
    },
    {
      "cell_type": "markdown",
      "source": [
        "String in Triple Quotes"
      ],
      "metadata": {
        "id": "4fyy1dlUgH9m"
      }
    },
    {
      "cell_type": "code",
      "source": [
        "para_str = \"\"\"This is a long string that is made up of\n",
        "several lines and non-printable characters such as\n",
        "TAB ( \\t ) and they will show up that way when displayed.\n",
        "NEWLINEs within the string, whether explicitly given like\n",
        "this within the brackets [ \\n ], or just a NEWLINE within\n",
        "the variable assignment will also show up.\n",
        "\"\"\"\n",
        "print (para_str)"
      ],
      "metadata": {
        "id": "Mwz1_cm5gKf7"
      },
      "execution_count": null,
      "outputs": []
    },
    {
      "cell_type": "markdown",
      "source": [
        " String strip"
      ],
      "metadata": {
        "id": "pHEe4xtZgMiS"
      }
    },
    {
      "cell_type": "code",
      "source": [
        "var =\" Indian   Army    \"\n",
        "\n",
        "print(\"String    --> \", var)\n",
        "print(\"Length    --> \", len(var))\n",
        "print(\"var strip --> \", var.strip())\n",
        "print(\"Length of var after strip --> \", len(var.strip()))"
      ],
      "metadata": {
        "id": "U-NXNQ0KgNGt"
      },
      "execution_count": null,
      "outputs": []
    },
    {
      "cell_type": "markdown",
      "source": [
        "String split"
      ],
      "metadata": {
        "id": "YNijX2sugRSB"
      }
    },
    {
      "cell_type": "code",
      "source": [
        "var =\" Indian,   Army    \"\n",
        "\n",
        "print(\"String    --> \", var)\n",
        "print(\"Length    --> \", len(var))\n",
        "print(\"var split --> \", var.split())\n",
        "print(\"var split --> \", var.split(' '))\n",
        "print(\"var split --> \", var.split(','))\n",
        "\n",
        "# Strip + Split\n",
        "print(\"var split --> \", var.strip().split(','))"
      ],
      "metadata": {
        "id": "NqHWqvYSgTOf"
      },
      "execution_count": null,
      "outputs": []
    },
    {
      "cell_type": "markdown",
      "source": [
        "Count in string"
      ],
      "metadata": {
        "id": "K0nKwqjEgVdZ"
      }
    },
    {
      "cell_type": "code",
      "source": [
        "var=\" Indian Army    \"\n",
        "print (\"String       --> \", var)\n",
        "print (\"Count of ' ' --> \", var.count(' '))\n",
        "print (\"Count of 'a' --> \", var.count('a'))\n",
        "print (\"Count of 'n' --> \", var.count('an'))"
      ],
      "metadata": {
        "id": "zZjlTi2MgXOH"
      },
      "execution_count": null,
      "outputs": []
    },
    {
      "cell_type": "markdown",
      "source": [
        "Reverse a String"
      ],
      "metadata": {
        "id": "q9O56kKDgZT7"
      }
    },
    {
      "cell_type": "code",
      "source": [
        "var=\"Indian Army\"\n",
        "print (\"String    --> \", var)\n",
        "print (\"var[::1]  --> \", var[::1])\n",
        "print (\"var[::2]  --> \", var[::2])\n",
        "print (\"var[::-1] --> \", var[::-1])\n",
        "print (\"var[::-2] --> \", var[::-2])\n",
        "\n",
        "var=var[::-1]\n",
        "print (\"var after reverse --> \", var)"
      ],
      "metadata": {
        "id": "0rl-LmH6gbbf"
      },
      "execution_count": null,
      "outputs": []
    },
    {
      "cell_type": "markdown",
      "source": [
        "Palindrome"
      ],
      "metadata": {
        "id": "Q1wsPVmVgdj8"
      }
    },
    {
      "cell_type": "code",
      "source": [
        "s1=\"Indian Army\"\n",
        "s2=\"malayalam\"\n",
        "s3=\"madam\"\n",
        "s4=\"teacher\"\n",
        "print (\"s1 --> \", s1==s1[::-1])\n",
        "print (\"s2 --> \", s2==s2[::-1])\n",
        "print (\"s3 --> \", s3==s3[::-1])\n",
        "print (\"s4 --> \", s4==s4[::-1])"
      ],
      "metadata": {
        "id": "-ZbfYq0TgfcR"
      },
      "execution_count": null,
      "outputs": []
    },
    {
      "cell_type": "markdown",
      "source": [
        "Random Numbers/String"
      ],
      "metadata": {
        "id": "RCFHdliQDeqH"
      }
    },
    {
      "cell_type": "markdown",
      "source": [
        "Generate random number between 0 and 1"
      ],
      "metadata": {
        "id": "it3e4G5-Dj0Y"
      }
    },
    {
      "cell_type": "code",
      "source": [
        "import random as r\n",
        "print (r.random())\n",
        "print (r.random())\n",
        "print (round(r.random(),4))"
      ],
      "metadata": {
        "id": "zLTlgRMXDmF6"
      },
      "execution_count": null,
      "outputs": []
    },
    {
      "cell_type": "markdown",
      "source": [
        "Generate random integer number"
      ],
      "metadata": {
        "id": "igOmdygEDoHH"
      }
    },
    {
      "cell_type": "code",
      "source": [
        "import random as r\n",
        "print (r.randint(1, 100))\n",
        "print (r.randint(1, 100))\n",
        "print (r.randint(-10, 10))\n",
        "print (r.randint(-10, 10))"
      ],
      "metadata": {
        "id": "2ofJK9r5Dp96"
      },
      "execution_count": null,
      "outputs": []
    },
    {
      "cell_type": "markdown",
      "source": [
        "Generate random real number"
      ],
      "metadata": {
        "id": "k-GyHDYDDr_t"
      }
    },
    {
      "cell_type": "code",
      "source": [
        "import random as r\n",
        "print (r.uniform(1, 100))\n",
        "print (r.uniform(1, 100))\n",
        "print (r.uniform (-10, 10))\n",
        "print (r.uniform (-10, 10))\n",
        "print (round(r.uniform (-10, 10),2))"
      ],
      "metadata": {
        "id": "7C9pbzGiD6Of"
      },
      "execution_count": null,
      "outputs": []
    },
    {
      "cell_type": "markdown",
      "source": [
        "Select sample from a list of elements"
      ],
      "metadata": {
        "id": "WpPftX7rDvw4"
      }
    },
    {
      "cell_type": "code",
      "source": [
        "import random as r\n",
        "\n",
        "A=[1, 2, 3, 4, 5, 6, 7, 8, 9, 10]\n",
        "\n",
        "print (r.sample(A, 4))\n",
        "print (r.sample(A, 2))\n",
        "print (r.sample(range(0,100), 2))\n",
        "print (r.sample(range(-100,100), 5))"
      ],
      "metadata": {
        "id": "X-aJCWXGDxod"
      },
      "execution_count": null,
      "outputs": []
    },
    {
      "cell_type": "markdown",
      "source": [
        "Generate random string"
      ],
      "metadata": {
        "id": "s_8sbz7OD9WJ"
      }
    },
    {
      "cell_type": "code",
      "source": [
        "import string as s\n",
        "import random as r\n",
        "print (\"String        --> \",s.ascii_letters)\n",
        "\n",
        "passwd=r.sample(s.ascii_letters, 6)\n",
        "print (\"Selected Char --> \",passwd)\n",
        "\n",
        "passwd1=\"\".join(passwd)\n",
        "print (\"passwd1       --> \",passwd1)\n",
        "\n",
        "passwd2=\"+\".join(passwd)\n",
        "print (\"passwd2       --> \",passwd2)\n",
        "\n",
        "passwd3=\"*\".join(passwd)\n",
        "print (\"passwd3       --> \",passwd3)"
      ],
      "metadata": {
        "id": "fetvZAEUEABg"
      },
      "execution_count": null,
      "outputs": []
    },
    {
      "cell_type": "markdown",
      "source": [
        "Generate random digits"
      ],
      "metadata": {
        "id": "UbhLGVtPECEH"
      }
    },
    {
      "cell_type": "code",
      "source": [
        "import string as s\n",
        "import random as r\n",
        "print (\"Digits --> \",s.digits)\n",
        "\n",
        "otp=r.sample(s.digits, 5)\n",
        "print (\"Selected num1 --> \",otp)\n",
        "otp=\"\".join(otp)\n",
        "print (\"otp1          --> \",otp)\n",
        "\n",
        "otp=r.sample(s.digits, 5)\n",
        "print (\"Selected num2 --> \",otp)\n",
        "otp=\"\".join(otp)\n",
        "print (\"otp2          --> \",otp)\n",
        "\n",
        "otp=r.sample(s.digits, 5)\n",
        "print (\"Selected num2 --> \",otp)\n",
        "otp=\"\".join(otp)\n",
        "print (\"otp3          --> \",otp)"
      ],
      "metadata": {
        "id": "izui1IeGEE5T"
      },
      "execution_count": null,
      "outputs": []
    },
    {
      "cell_type": "markdown",
      "source": [
        "Generate random string + digits"
      ],
      "metadata": {
        "id": "21UbgN-vEHTP"
      }
    },
    {
      "cell_type": "code",
      "source": [
        "import string as s\n",
        "import random as r\n",
        "print (\"String + Digits --> \",s.ascii_letters + s.digits)\n",
        "\n",
        "mixPasswd=r.sample(s.ascii_letters + s.digits, 5)\n",
        "print (\"\\nSelected Str1 --> \",mixPasswd)\n",
        "mixPasswd=\"\".join(mixPasswd)\n",
        "print (\"mixPasswd1    --> \",mixPasswd)\n",
        "\n",
        "mixPasswd=r.sample(s.ascii_letters + s.digits, 6)\n",
        "print (\"\\nSelected Str2 --> \",mixPasswd)\n",
        "mixPasswd=\"\".join(mixPasswd)\n",
        "print (\"mixPasswd2    --> \",mixPasswd)\n",
        "\n",
        "splChar=\"#@!~%^&*()_+=-[]{}|\"\n",
        "mixPasswd=r.sample(splChar + s.ascii_letters + s.digits, 8)\n",
        "print (\"\\nSelected Str3 --> \",mixPasswd)\n",
        "mixPasswd=\"\".join(mixPasswd)\n",
        "print (\"mixPasswd3    --> \",mixPasswd)"
      ],
      "metadata": {
        "id": "XD3poMdUEKGG"
      },
      "execution_count": null,
      "outputs": []
    },
    {
      "cell_type": "markdown",
      "source": [
        "Exception Handaling"
      ],
      "metadata": {
        "id": "ZS2j42qxEMX1"
      }
    },
    {
      "cell_type": "markdown",
      "source": [
        "Error Generation"
      ],
      "metadata": {
        "id": "5tCer_nWEN-Q"
      }
    },
    {
      "cell_type": "code",
      "source": [
        "for i in range(-5,6):\n",
        "\tprint (\"100/\",i,\" --> \", 100/i)"
      ],
      "metadata": {
        "id": "vXZ8lP-WEQJ9"
      },
      "execution_count": null,
      "outputs": []
    },
    {
      "cell_type": "markdown",
      "source": [
        "Exception handaling for division by zero"
      ],
      "metadata": {
        "id": "XPG8TJ7_ESQD"
      }
    },
    {
      "cell_type": "code",
      "source": [
        "for i in range(-5,6):\n",
        "\ttry:\n",
        "\t\tprint (\"100/\",i,\" --> \", 100/i)\n",
        "\texcept:\n",
        "\t\tprint (\"error\")"
      ],
      "metadata": {
        "id": "JgI6820QEUA9"
      },
      "execution_count": null,
      "outputs": []
    },
    {
      "cell_type": "markdown",
      "source": [
        "Exception handaling for array out of index"
      ],
      "metadata": {
        "id": "fu3VJSYVEV1t"
      }
    },
    {
      "cell_type": "code",
      "source": [
        "L=[1,2,3,4,5]\n",
        "\n",
        "for i in range(8):\n",
        "\ttry:\n",
        "\t\tprint (i,\" --> \",L[i])\n",
        "\texcept:\n",
        "\t\tprint (\"error\")"
      ],
      "metadata": {
        "id": "v6ckbjGaEYRW"
      },
      "execution_count": null,
      "outputs": []
    },
    {
      "cell_type": "markdown",
      "source": [
        "Exception handaling for file not found"
      ],
      "metadata": {
        "id": "-c2WappsEbP6"
      }
    },
    {
      "cell_type": "code",
      "source": [
        "fileName=input(\"Enter File Name: \")\n",
        "fp=open(fileName)\t# Open the file in reading mode\n",
        "fp.close()\n",
        "print (\"Done\")"
      ],
      "metadata": {
        "id": "UWfbcMIBEdJd"
      },
      "execution_count": null,
      "outputs": []
    },
    {
      "cell_type": "markdown",
      "source": [
        "Exception handaling for file not found"
      ],
      "metadata": {
        "id": "Ho39r0edEfT4"
      }
    },
    {
      "cell_type": "code",
      "source": [
        "fileName=input(\"Enter File Name: \")\n",
        "try:\n",
        "\tfp=open(fileName)\t# Open the file in reading mode\n",
        "\tfp.close()\n",
        "except:\n",
        "\tprint (\"Error !! \\\"%s\\\" File Not Found\"%(fileName))\n",
        "\n",
        "print (\"Done\")"
      ],
      "metadata": {
        "id": "uL_JriFPEhuQ"
      },
      "execution_count": null,
      "outputs": []
    },
    {
      "cell_type": "markdown",
      "source": [
        "Data Structure 1 - List"
      ],
      "metadata": {
        "id": "LViAX2JNEjxC"
      }
    },
    {
      "cell_type": "markdown",
      "source": [
        "List Declaration\n"
      ],
      "metadata": {
        "id": "B_9YK8kbElfF"
      }
    },
    {
      "cell_type": "code",
      "source": [
        "L = [\"Pratham\",  'Sharma', 3.14,  3 ]\n",
        "print (\"Original List: \", L)\n",
        "print (\"Number of elements in list: \", len(L))"
      ],
      "metadata": {
        "id": "V390sYdnEn-Y"
      },
      "execution_count": null,
      "outputs": []
    },
    {
      "cell_type": "markdown",
      "source": [
        "List Iteration"
      ],
      "metadata": {
        "id": "LZsy5G5lEr-X"
      }
    },
    {
      "cell_type": "code",
      "source": [
        "L = [\"Pratham\",  'Sharma', 3.14,  3 ]\n",
        "print (\"Original List: \", L)\n",
        "i=0\n",
        "while i < len(L): \n",
        "\tprint (L[i])\n",
        "\ti+=1"
      ],
      "metadata": {
        "id": "nk3bx64cEvI5"
      },
      "execution_count": null,
      "outputs": []
    },
    {
      "cell_type": "markdown",
      "source": [
        "List Iteration using for loop"
      ],
      "metadata": {
        "id": "GeKl0qi1Ew9t"
      }
    },
    {
      "cell_type": "code",
      "source": [
        "L = [\"Pratham\",  'Sharma', 3.14,  3 ]\n",
        "print (\"Original List: \", L)\n",
        "for i in range(0, len(L)):\n",
        "\tprint (L[i])"
      ],
      "metadata": {
        "id": "BuM9BsZoEy4Z"
      },
      "execution_count": null,
      "outputs": []
    },
    {
      "cell_type": "markdown",
      "source": [
        "List Iteration using for loop\n"
      ],
      "metadata": {
        "id": "nNDEqd7RE1hC"
      }
    },
    {
      "cell_type": "code",
      "source": [
        "L = [\"Pratham\",  'Sharma', 3.14,  3 ]\n",
        "print (\"Original List --> \", L)\n",
        "for s in L:\n",
        "\tprint (s)"
      ],
      "metadata": {
        "id": "kg_Xxs2iE3lV"
      },
      "execution_count": null,
      "outputs": []
    },
    {
      "cell_type": "markdown",
      "source": [
        "Adding and deleting from list"
      ],
      "metadata": {
        "id": "S4ryDUkKE5kb"
      }
    },
    {
      "cell_type": "code",
      "source": [
        "L = [\"Pratham\",  'Sharma', 3.14,  3 ]\n",
        "print (\"Original List       --> \", L)\n",
        "\n",
        "L.append(\"Rahul\")\n",
        "print (\"List After Adding   --> \", L)\n",
        "\n",
        "del L[1]\n",
        "print (\"List After Deleting --> \", L)"
      ],
      "metadata": {
        "id": "NfKdxnkaE7fP"
      },
      "execution_count": null,
      "outputs": []
    },
    {
      "cell_type": "markdown",
      "source": [
        "Sum/Average of List"
      ],
      "metadata": {
        "id": "hXu2dVS8E9hp"
      }
    },
    {
      "cell_type": "code",
      "source": [
        "L=[3, 6, 9, 12, 5, 3, 2]\n",
        "print (\"Original List --> \", L)\n",
        "\n",
        "print (\"Sum     --> \", sum(L))\n",
        "print (\"Average --> \", sum(L)/len(L))\n",
        "print (\"Average --> \", sum(L)//len(L))\n",
        "\n",
        "print (\"L * 3   --> \", L * 3)     # Every element get tripled\n",
        "print (\"L + L   --> \", L + L)     # Every element get doubled"
      ],
      "metadata": {
        "id": "tu0fgAMgFAJn"
      },
      "execution_count": null,
      "outputs": []
    },
    {
      "cell_type": "markdown",
      "source": [
        "Min/Max/Sort the list"
      ],
      "metadata": {
        "id": "ar0mWUuaFCSe"
      }
    },
    {
      "cell_type": "code",
      "source": [
        "L=[3, 6, 9, 12, 5, 3, 2]\n",
        "print (\"Original List --> \", L)\n",
        "\n",
        "print (\"max --> \", max(L))\n",
        "print (\"min --> \", min(L))\n",
        "\n",
        "print (\"\\nBefore Sort            --> \", L)\n",
        "L.sort()\n",
        "\n",
        "print (\"After Sort (Asending)  --> \", L)\n",
        "\n",
        "L.sort(reverse=True)\n",
        "print (\"After Sort (Desending) --> \", L)"
      ],
      "metadata": {
        "id": "5br5ysp6FENq"
      },
      "execution_count": null,
      "outputs": []
    },
    {
      "cell_type": "markdown",
      "source": [
        "Merge lists and select elements"
      ],
      "metadata": {
        "id": "JM2aKZuJFGp7"
      }
    },
    {
      "cell_type": "code",
      "source": [
        "L1 = [3, 6, 9]\n",
        "L2 = [12, 5, 3, 2]\n",
        "L3 = L1 + L2\n",
        "print (\"L1 --> \",L1)\n",
        "print (\"L2 --> \",L2)\n",
        "print (\"L3 --> \",L3)\n",
        "\n",
        "print (\"\\nL3[2:]  --> \",L3[2:])\n",
        "print (\"L3[2:5] --> \",L3[2:5])\n",
        "print (\"L3[:-1] --> \",L3[:-1])\n",
        "print (\"L3[::2] --> \",L3[::2])"
      ],
      "metadata": {
        "id": "tKlmtMEhFJUE"
      },
      "execution_count": null,
      "outputs": []
    },
    {
      "cell_type": "markdown",
      "source": [
        "Multiply all elements of the list by a constant\n"
      ],
      "metadata": {
        "id": "psxRpYhZFLqS"
      }
    },
    {
      "cell_type": "code",
      "source": [
        "L = [12, 5, 3, 2, 7]\n",
        "print (\"Original List --> \", L)\n",
        "\n",
        "newL = [ i * 5 for i in L ]\n",
        "print (\"After Multiply with constant --> \", newL)"
      ],
      "metadata": {
        "id": "JlH6KZV-FOPn"
      },
      "execution_count": null,
      "outputs": []
    },
    {
      "cell_type": "markdown",
      "source": [
        "Searching in the list"
      ],
      "metadata": {
        "id": "XImIFSA3FQ-i"
      }
    },
    {
      "cell_type": "code",
      "source": [
        "L=[3, 6, 9, 12, 5, 3, 2]\n",
        "print (\"Original List --> \", 6 in L)\n",
        "print (\"Original List --> \", 10 in L)\n",
        "print (\"Original List --> \", 12 in L)\n",
        "\n",
        "if (6 in L) == True:\n",
        "\tprint (\"Present\")\n",
        "else:\n",
        "\tprint (\"Not Present\")\n",
        "\n",
        "if 10 in L == False:\n",
        "\tprint (\"Not Present\")\n",
        "else:\n",
        "\tprint (\"Present\")"
      ],
      "metadata": {
        "id": "Tzm9YKSCFT6F"
      },
      "execution_count": null,
      "outputs": []
    },
    {
      "cell_type": "markdown",
      "source": [
        "Data Structure 2 - Dictionary"
      ],
      "metadata": {
        "id": "sZ8zbTJzFV2_"
      }
    },
    {
      "cell_type": "markdown",
      "source": [
        " Declare Dictionary"
      ],
      "metadata": {
        "id": "8AZlE8UZFXnl"
      }
    },
    {
      "cell_type": "code",
      "source": [
        "CGPA={1:8.9, 2:5.6, 4:6.7, 7:9.1, 8:5.3}\n",
        "print (\"Dictionary      --> \", CGPA)\n",
        "print (\"Num of elements --> \", len(CGPA))\n",
        "\n",
        "print (\"CGPA of 1       --> \", CGPA[1])\n",
        "print (\"CGPA of 4       --> \", CGPA[4])\n",
        "print (\"CGPA of 7       --> \", CGPA[7])\n",
        "print (\"CGPA of 3       --> \", CGPA[3])"
      ],
      "metadata": {
        "id": "M_MDRJKoFpKR"
      },
      "execution_count": null,
      "outputs": []
    },
    {
      "cell_type": "markdown",
      "source": [
        "Triverse dictionary"
      ],
      "metadata": {
        "id": "HUZkzq5-FtKx"
      }
    },
    {
      "cell_type": "code",
      "source": [
        "CGPA={1:8.9, 2:5.6, 4:6.7, 7:9.1, 8:5.3}\n",
        "for k in CGPA:\n",
        "\tprint (\"CGPA of \", k, \" --> \", CGPA[k])"
      ],
      "metadata": {
        "id": "R9JQMbqOFxn9"
      },
      "execution_count": null,
      "outputs": []
    },
    {
      "cell_type": "markdown",
      "source": [
        "Getting Keys and Values"
      ],
      "metadata": {
        "id": "1IMiRR8tFzgJ"
      }
    },
    {
      "cell_type": "code",
      "source": [
        "CGPA={1:8.9, 2:5.6, 4:6.7, 7:9.1, 8:5.3}\n",
        "print (\"Dictionary --> \", CGPA)\n",
        "print (\"Keys       --> \", list(CGPA.keys()))\n",
        "print (\"Values     --> \", list(CGPA.values()))"
      ],
      "metadata": {
        "id": "6LmbNFydF1vJ"
      },
      "execution_count": null,
      "outputs": []
    },
    {
      "cell_type": "markdown",
      "source": [
        "Updating, Adding and Deleting from Dictionary\n"
      ],
      "metadata": {
        "id": "6RmyI506F3l1"
      }
    },
    {
      "cell_type": "code",
      "source": [
        "CGPA={1:8.9,2:5.6,4:6.7,7:9.1,8:5.3}\n",
        "print (\"Original Dictionary --> \", CGPA)\n",
        "\n",
        "CGPA[4] = 9.2\n",
        "print (\"After Updating (4)  --> \", CGPA)\n",
        "\n",
        "CGPA[3] = 8.6\n",
        "print (\"After Adding (3)    --> \", CGPA)\n",
        "\n",
        "del CGPA[1]\n",
        "print (\"After Deleting (1)  --> \", CGPA)\n",
        "\n",
        "CGPA.clear()\n",
        "print (\"After Clear         --> \", CGPA)\n",
        "\n",
        "del CGPA\n",
        "print (\"After Delete        --> \", CGPA)"
      ],
      "metadata": {
        "id": "B7I3UDDQF5lB"
      },
      "execution_count": null,
      "outputs": []
    },
    {
      "cell_type": "markdown",
      "source": [
        "Checking for Key in Dictionary"
      ],
      "metadata": {
        "id": "5OnmyTvzF7kU"
      }
    },
    {
      "cell_type": "code",
      "source": [
        "CGPA={1:8.9, 2:5.6, 4:6.7, 7:9.1, 8:5.3}\n",
        "print (\"Original Dictionary --> \", CGPA)\n",
        "print (\"Is Key 2 Present    --> \", 2 in CGPA)\n",
        "print (\"Is Key 9 Present    --> \", 9 in CGPA)"
      ],
      "metadata": {
        "id": "t5Q6WP_LF949"
      },
      "execution_count": null,
      "outputs": []
    },
    {
      "cell_type": "markdown",
      "source": [
        "More example1"
      ],
      "metadata": {
        "id": "mGI-tRb8F__z"
      }
    },
    {
      "cell_type": "code",
      "source": [
        "HomeTown={\"Prashant\":\"Delhi\", \"Govind\":\"Gwalior\", \"Anil\":\"Morena\", \"Pankaj\":\"Agra\"}\n",
        "print (\"Original Dictionary --> \", HomeTown)\n",
        "print (\"Home Town of Prashant is --> \", HomeTown[\"Prashant\"])\n",
        "print (\"Home Town of Govind is   --> \", HomeTown[\"Govind\"])\n",
        "print (\"Home Town of Anil is     --> \", HomeTown[\"Anil\"])\n",
        "print (\"Home Town of Pankaj is   --> \", HomeTown[\"Pankaj\"])\n"
      ],
      "metadata": {
        "id": "Oo1mkJo8GCrF"
      },
      "execution_count": null,
      "outputs": []
    },
    {
      "cell_type": "markdown",
      "source": [
        "More example2"
      ],
      "metadata": {
        "id": "xLCApGXsGEfO"
      }
    },
    {
      "cell_type": "code",
      "source": [
        "HomeTown={\"Prashant\":\"Delhi\", \"Govind\":\"Gwalior\", \"Anil\":\"Morena\", \"Pankaj\":\"Agra\"}\n",
        "print (\"Original Dictionary --> \", HomeTown)\n",
        "\n",
        "for d in HomeTown:\n",
        "\tprint (\"Home Town of \", d, \" is  --> \", HomeTown[d])"
      ],
      "metadata": {
        "id": "m4LAHGzvGGsy"
      },
      "execution_count": null,
      "outputs": []
    },
    {
      "cell_type": "markdown",
      "source": [
        "Data Structure 3 - Tuple"
      ],
      "metadata": {
        "id": "JdTN1Gg9GJZu"
      }
    },
    {
      "cell_type": "markdown",
      "source": [
        "Declare Tuple"
      ],
      "metadata": {
        "id": "ydlIJMWPGLM2"
      }
    },
    {
      "cell_type": "code",
      "source": [
        "# Method 1\n",
        "T = (\"Pratham\", 'Sharma', 3.14, 3)\n",
        "\n",
        "print (\"T               -->\", T)\n",
        "print (\"Num of elements -->\", len(T))\n",
        "print (\"Type of Object  -->\", type(T))"
      ],
      "metadata": {
        "id": "YepXFp7BGN2i"
      },
      "execution_count": null,
      "outputs": []
    },
    {
      "cell_type": "code",
      "source": [
        "# Method 2\n",
        "T = tuple([\"Pratham\", 'Sharma', 3.14, 3])   # Convert list to tuple\n",
        "#T = tuple((\"Pratham\", 'Sharma', 3.14, 3))  # Also Works\n",
        "\n",
        "print (\"T               -->\", T)\n",
        "print (\"Num of elements -->\", len(T))\n",
        "print (\"Type of Object  -->\", type(T))"
      ],
      "metadata": {
        "id": "AdicZtTzGRs0"
      },
      "execution_count": null,
      "outputs": []
    },
    {
      "cell_type": "markdown",
      "source": [
        "Tuple Iteration"
      ],
      "metadata": {
        "id": "_VLe0LEwGToF"
      }
    },
    {
      "cell_type": "code",
      "source": [
        "T = (\"Pratham\", 'Sharma', 3.14, 3)\n",
        "print (\"T -->\", T)\n",
        "\n",
        "i = 0\n",
        "while i < len(T): \n",
        "    print (T[i])\n",
        "    i += 1"
      ],
      "metadata": {
        "id": "I624UR0xGVoh"
      },
      "execution_count": null,
      "outputs": []
    },
    {
      "cell_type": "markdown",
      "source": [
        " Tuple iteration using for loop"
      ],
      "metadata": {
        "id": "0TTXAXVZGXyB"
      }
    },
    {
      "cell_type": "code",
      "source": [
        "T = (\"Pratham\", 'Sharma', 3.14, 3)\n",
        "print (\"T -->\", T)\n",
        "\n",
        "for i in range(0, len(T)):\n",
        "    print (T[i])"
      ],
      "metadata": {
        "id": "Y_jARdrUGahh"
      },
      "execution_count": null,
      "outputs": []
    },
    {
      "cell_type": "markdown",
      "source": [
        "Tuple iteration using for loop"
      ],
      "metadata": {
        "id": "fDpz012lGcgS"
      }
    },
    {
      "cell_type": "code",
      "source": [
        "T = (\"Pratham\", 'Sharma', 3.14, 3)\n",
        "print (\"T -->\", T)\n",
        "\n",
        "for s in T:\n",
        "    print (s)"
      ],
      "metadata": {
        "id": "bwCiQrQpGhpg"
      },
      "execution_count": null,
      "outputs": []
    },
    {
      "cell_type": "markdown",
      "source": [
        "Accessing/Selecting in Tuple"
      ],
      "metadata": {
        "id": "ftawfqSBGjk6"
      }
    },
    {
      "cell_type": "code",
      "source": [
        "# Example 1:\n",
        "T = (3, 6, 9, 12, 5, 3, 2)\n",
        "print (\"T     -->\", T)\n",
        "\n",
        "print (\"T[1]  -->\", T[1])\n",
        "print (\"T[2]  -->\", T[2])\n",
        "print (\"T[-1] -->\", T[-1])\n",
        "print (\"T[-2] -->\", T[-2])"
      ],
      "metadata": {
        "id": "6sDbbMVPGn0c"
      },
      "execution_count": null,
      "outputs": []
    },
    {
      "cell_type": "code",
      "source": [
        "# Example 2:\n",
        "T = (3, 6, 9, 12, 5, 3, 2)\n",
        "print (\"T        -->\", T)\n",
        "\n",
        "print (\"T[1:3]   -->\", T[1:3])\n",
        "print (\"T[2:]    -->\", T[2:])\n",
        "print (\"T[2:5]   -->\", T[2:5])\n",
        "print (\"T[:2]    -->\", T[:2])\n",
        "print (\"T[:-1]   -->\", T[:-1])\n",
        "print (\"T[-4:-1] -->\", T[-4:-1])"
      ],
      "metadata": {
        "id": "SAAGb-8oGqY-"
      },
      "execution_count": null,
      "outputs": []
    },
    {
      "cell_type": "markdown",
      "source": [
        "Sum/Average of Tuple"
      ],
      "metadata": {
        "id": "i5_sFPcsGwEf"
      }
    },
    {
      "cell_type": "code",
      "source": [
        "T = (3, 6, 9, 12, 5, 3, 2)\n",
        "print (\"T       -->\", T)\n",
        "print (\"Sum     -->\", sum(T))\n",
        "print (\"Average -->\", sum(T)/len(T))\n",
        "print (\"Average -->\", sum(T)//len(T))"
      ],
      "metadata": {
        "id": "-uttOZjRGz-9"
      },
      "execution_count": null,
      "outputs": []
    },
    {
      "cell_type": "markdown",
      "source": [
        "Min/Max in Tuple"
      ],
      "metadata": {
        "id": "OVO71fbiG2AC"
      }
    },
    {
      "cell_type": "code",
      "source": [
        "# Example 1\n",
        "T = (3, 6, 9, 12, 5, 3, 2)                # Integer Tuple\n",
        "print (\"T   -->\", T)\n",
        "print (\"Max -->\", max(T))\n",
        "print (\"Min -->\", min(T))"
      ],
      "metadata": {
        "id": "noUFsWTKG39D"
      },
      "execution_count": null,
      "outputs": []
    },
    {
      "cell_type": "code",
      "source": [
        "# Example 2\n",
        "T = (\"Ram\", \"Shyam\", \"Human\", \"Ant\")      # String Tuple\n",
        "print (\"T   -->\", T)\n",
        "print (\"Max -->\", max(T))\n",
        "print (\"Min -->\", min(T))"
      ],
      "metadata": {
        "id": "OwAZgd0ZG6dr"
      },
      "execution_count": null,
      "outputs": []
    },
    {
      "cell_type": "markdown",
      "source": [
        "Merging Tuples"
      ],
      "metadata": {
        "id": "nafduhycG-I2"
      }
    },
    {
      "cell_type": "code",
      "source": [
        "T1 = (3, 6, 9)\n",
        "T2 = (12, 5, 3, 2)\n",
        "\n",
        "print (\"T1 -->\", T1)\n",
        "print (\"T2 -->\", T2)\n",
        "\n",
        "T3 = T1 + T2\n",
        "print (\"T3 -->\", T3)\n",
        "\n",
        "T4 = T1 + T2 + T1 + T2\n",
        "print (\"T4 -->\", T4)"
      ],
      "metadata": {
        "id": "YtTKf5iOHAPD"
      },
      "execution_count": null,
      "outputs": []
    },
    {
      "cell_type": "markdown",
      "source": [
        "Merging part of Tuples"
      ],
      "metadata": {
        "id": "_VljKkBrHCIh"
      }
    },
    {
      "cell_type": "code",
      "source": [
        "T1 = (3, 6, 9)\n",
        "T2 = (12, 5, 3, 2)\n",
        "\n",
        "print (\"T1 -->\", T1)\n",
        "print (\"T2 -->\", T2)\n",
        "\n",
        "T3 = T1[1:2] + T2[1:3]\n",
        "print (\"T3 -->\", T3)\n",
        "\n",
        "T4 = T1[:-2] + T2[:-3]\n",
        "print (\"T4 -->\", T4)"
      ],
      "metadata": {
        "id": "QhlTBRiSHGwB"
      },
      "execution_count": null,
      "outputs": []
    },
    {
      "cell_type": "markdown",
      "source": [
        "Searching in the tuple"
      ],
      "metadata": {
        "id": "DpRF6lSiHInU"
      }
    },
    {
      "cell_type": "code",
      "source": [
        "T = (3, 6, 9, 12, 5, 3, 2)\n",
        "print (\"T       -->\", T)\n",
        "\n",
        "print (\"6  in T -->\", 6 in T)\n",
        "print (\"10 in T -->\", 10 in T)\n",
        "print (\"12 in T -->\", 12 in T)"
      ],
      "metadata": {
        "id": "zXbbfohEHKz7"
      },
      "execution_count": null,
      "outputs": []
    },
    {
      "cell_type": "markdown",
      "source": [
        "Adding element to Tuple (Error)"
      ],
      "metadata": {
        "id": "r6j17EjgHMyC"
      }
    },
    {
      "cell_type": "code",
      "source": [
        "T = (\"Pratham\", 'Sharma', 3.14, 3)\n",
        "print (\"T -->\", T)\n",
        "\n",
        "T[2] = 900               # Error; 'tuple' object does not support item assignment\n",
        "print (\"T -->\", T)\n",
        "\n",
        "#Tuples are unchangeable. We cannot add items to it."
      ],
      "metadata": {
        "id": "Nc2RPtc5HO3T"
      },
      "execution_count": null,
      "outputs": []
    },
    {
      "cell_type": "markdown",
      "source": [
        "Adding element to Tuple - (Jugaad)"
      ],
      "metadata": {
        "id": "rqRty_n6HQ7N"
      }
    },
    {
      "cell_type": "code",
      "source": [
        "T = (\"Pratham\", 'Sharma', 3.14, 3)\n",
        "print (\"T         -->\", T)\n",
        "\n",
        "T1 = list(T)\n",
        "T1.append(9.8)\n",
        "T = tuple(T1)\n",
        "\n",
        "print (\"After Add -->\", T)"
      ],
      "metadata": {
        "id": "J2hOg0tWHULc"
      },
      "execution_count": null,
      "outputs": []
    },
    {
      "cell_type": "markdown",
      "source": [
        "Inserting element in Tuple - (Jugaad)"
      ],
      "metadata": {
        "id": "lEf1Cbh_HWvr"
      }
    },
    {
      "cell_type": "code",
      "source": [
        "T = (\"Pratham\", 'Sharma', 3.14, 3)\n",
        "print (\"T            -->\", T)\n",
        "\n",
        "T1 = list(T)\n",
        "T1.insert(2, \"Rahul\")\n",
        "T = tuple(T1)\n",
        "\n",
        "print (\"After Insert -->\", T)"
      ],
      "metadata": {
        "id": "neyAoaTfHY5n"
      },
      "execution_count": null,
      "outputs": []
    },
    {
      "cell_type": "markdown",
      "source": [
        "Deleting from Tuple (Error)"
      ],
      "metadata": {
        "id": "C5uxksCjHavV"
      }
    },
    {
      "cell_type": "code",
      "source": [
        "T = (\"Pratham\", 'Sharma', 3.14, 3)\n",
        "print (\"T            -->\", T)\n",
        "\n",
        "del T[1]\n",
        "\n",
        "print (\"After Delete -->\", T)"
      ],
      "metadata": {
        "id": "-T22BGLHHczO"
      },
      "execution_count": null,
      "outputs": []
    },
    {
      "cell_type": "markdown",
      "source": [
        "Deleting from Tuple - (Jugaad)"
      ],
      "metadata": {
        "id": "No8Bk5A2HetY"
      }
    },
    {
      "cell_type": "code",
      "source": [
        "T = (\"Pratham\", 'Sharma', 3.14, 3)\n",
        "print (\"T            -->\", T)\n",
        "\n",
        "T1 = list(T)\n",
        "del T1[1]\n",
        "T = tuple(T1)\n",
        "\n",
        "print (\"After Delete -->\", T)"
      ],
      "metadata": {
        "id": "8dOwCa7zHgqI"
      },
      "execution_count": null,
      "outputs": []
    },
    {
      "cell_type": "markdown",
      "source": [
        "Data Structure 4 - Set"
      ],
      "metadata": {
        "id": "voSDkiZpHi6G"
      }
    },
    {
      "cell_type": "markdown",
      "source": [
        "Declare Set"
      ],
      "metadata": {
        "id": "REdLmYQqHkpd"
      }
    },
    {
      "cell_type": "code",
      "source": [
        "s = set(['A', 'B', 'E', 'F','E', 'F' ])\n",
        "print (\"Original set           --> \", s)\n",
        "print (\"Num of elements in set --> \", len(s))"
      ],
      "metadata": {
        "id": "m0chZmolHnDF"
      },
      "execution_count": null,
      "outputs": []
    },
    {
      "cell_type": "markdown",
      "source": [
        "Opertions on Sets"
      ],
      "metadata": {
        "id": "fCm7KIkhHpMv"
      }
    },
    {
      "cell_type": "code",
      "source": [
        "a = set(['A', 'B', 'E', 'F' ])\n",
        "b = set([\"A\", \"C\", \"D\", \"E\"])\n",
        "print (\"Original set a      --> \", a)\n",
        "print (\"Original set b      --> \", b)\n",
        "print (\"Union of a and b    --> \", a.union(b))\n",
        "print (\"Intersection of a,b --> \", a.intersection(b))\n",
        "print (\"Difference a - b    --> \", a - b)\n",
        "print (\"Difference a - b    --> \", a.difference(b))\n",
        "print (\"Difference b - a    --> \", b - a)\n",
        "print (\"Difference b - a    --> \", b.difference(a))\n",
        "print (\"Symetric Diff a - b --> \", a.symmetric_difference(b))\n",
        "print (\"Symetric Diff b - a --> \", b.symmetric_difference(a))"
      ],
      "metadata": {
        "id": "-vFBAHOiHrYV"
      },
      "execution_count": null,
      "outputs": []
    },
    {
      "cell_type": "markdown",
      "source": [
        "Add, delete, pop element from set"
      ],
      "metadata": {
        "id": "0-lYalAnHtSa"
      }
    },
    {
      "cell_type": "code",
      "source": [
        "a = set(['A', 'B', 'E', 'F' ])\n",
        "print (\"Original set a       --> \", a)\n",
        "a.add(\"D\")\n",
        "print (\"Set After Adding (D) --> \", a)\n",
        "a.add(\"D\")\n",
        "print (\"Set After Adding (D) --> \", a)\n",
        "a.remove(\"D\")\n",
        "print (\"Set After Deleting(D)--> \", a)\n",
        "a.pop()\n",
        "print (\"Set After pop        --> \", a)\n",
        "a.pop()\n",
        "print (\"Set After pop        --> \", a)"
      ],
      "metadata": {
        "id": "crGIOOUtHw5Z"
      },
      "execution_count": null,
      "outputs": []
    },
    {
      "cell_type": "markdown",
      "source": [
        "Command Line Argument"
      ],
      "metadata": {
        "id": "kCpsABX6Hytt"
      }
    },
    {
      "cell_type": "markdown",
      "source": [
        "Add two numbers given at cmd line"
      ],
      "metadata": {
        "id": "aDKc_bMqH074"
      }
    },
    {
      "cell_type": "code",
      "source": [
        "import sys\n",
        "print (sys.argv)\n",
        "a = int(sys.argv[1]) \t# First Number\n",
        "b = int(sys.argv[2])\t# Second Number\n",
        "c = a + b\n",
        "print (a, \" + \", b, \" --> \", c)"
      ],
      "metadata": {
        "id": "ZuTcjY2IH3LE"
      },
      "execution_count": null,
      "outputs": []
    },
    {
      "cell_type": "markdown",
      "source": [
        "Concatinate two strings given at cmd line"
      ],
      "metadata": {
        "id": "pgrWzb8EH5Hq"
      }
    },
    {
      "cell_type": "code",
      "source": [
        "import sys\n",
        "print (sys.argv)\n",
        "s = sys.argv[1] + \" \" + sys.argv[2]\n",
        "print (sys.argv[1], \" + \", sys.argv[2], \" --> \", s)"
      ],
      "metadata": {
        "id": "wl6GfznfH7Tw"
      },
      "execution_count": null,
      "outputs": []
    },
    {
      "cell_type": "markdown",
      "source": [
        "Add all the numbers given at cmd line"
      ],
      "metadata": {
        "id": "t6_dKSvuH9Pm"
      }
    },
    {
      "cell_type": "code",
      "source": [
        "import sys\n",
        "print (sys.argv)\n",
        "sum=0\n",
        "for s in sys.argv[1:]:\n",
        "\tsum += int(s)\n",
        "\n",
        "print (\"Sum is --> \", sum)"
      ],
      "metadata": {
        "id": "1ftbkUBvH_JO"
      },
      "execution_count": null,
      "outputs": []
    },
    {
      "cell_type": "markdown",
      "source": [
        "File Handling"
      ],
      "metadata": {
        "id": "ZTwX7BmBIBEE"
      }
    },
    {
      "cell_type": "markdown",
      "source": [
        "Writing 1 to 10 in file"
      ],
      "metadata": {
        "id": "MJ1WvAt5ID2K"
      }
    },
    {
      "cell_type": "code",
      "source": [
        "fp=open('result.txt','w')\t# Open the file in writing mode\n",
        "for  i in range(1,11):\n",
        "\tfp.write(str(i) + \"\\n\")\t# Writing to the file line by line\n",
        "fp.close()\n",
        "\n",
        "print (\"Writing done !! \\nOpen result.txt to view the content\")"
      ],
      "metadata": {
        "id": "JPwcnP7xIF18"
      },
      "execution_count": null,
      "outputs": []
    },
    {
      "cell_type": "markdown",
      "source": [
        "Read a file and print its content"
      ],
      "metadata": {
        "id": "0v9BHx4CIHlH"
      }
    },
    {
      "cell_type": "code",
      "source": [
        "fp=open('result.txt')\t\t# Open the file in reading mode\n",
        "for line in fp: \t\t    # print line by line\n",
        "\tprint (line.strip())\n",
        "fp.close()"
      ],
      "metadata": {
        "id": "erg-aWbeIKSx"
      },
      "execution_count": null,
      "outputs": []
    },
    {
      "cell_type": "markdown",
      "source": [
        "Read from one file, Convert it to upper case and write to other file"
      ],
      "metadata": {
        "id": "ze_KdR5vIMVz"
      }
    },
    {
      "cell_type": "code",
      "source": [
        "Readfp=open('result.txt')\t\t# Open the file in reading mode\n",
        "Writefp=open('abc.txt','w')\t# Open the file in writing mode\n",
        "for line in Readfp: \n",
        "\tWritefp.write(line.upper())\n",
        "\t\n",
        "Writefp.close()\n",
        "Readfp.close()\n",
        "\n",
        "print (\"Writing done !! \\nOpen result.txt to view the content\")"
      ],
      "metadata": {
        "id": "gaTTAed7IO4J"
      },
      "execution_count": null,
      "outputs": []
    }
  ]
}